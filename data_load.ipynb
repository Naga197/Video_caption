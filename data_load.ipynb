{
 "cells": [
  {
   "cell_type": "code",
   "execution_count": 2,
   "metadata": {},
   "outputs": [],
   "source": [
    "import pandas as pd\n",
    "import numpy as np\n",
    "import os\n",
    "import nltk\n",
    "from nltk.corpus import stopwords\n",
    "import re\n",
    "import shutil\n",
    "import tensorflow as tf\n",
    "from tensorflow.keras.preprocessing.text import one_hot"
   ]
  },
  {
   "cell_type": "code",
   "execution_count": 3,
   "metadata": {},
   "outputs": [
    {
     "name": "stderr",
     "output_type": "stream",
     "text": [
      "'grep' is not recognized as an internal or external command,\n",
      "operable program or batch file.\n"
     ]
    }
   ],
   "source": [
    "!conda list | grep pandas"
   ]
  },
  {
   "cell_type": "code",
   "execution_count": 3,
   "metadata": {},
   "outputs": [],
   "source": [
    "df=pd.read_csv('video_captioning_dataset/video_corpus.csv')"
   ]
  },
  {
   "cell_type": "code",
   "execution_count": 4,
   "metadata": {},
   "outputs": [
    {
     "data": {
      "text/html": [
       "<div>\n",
       "<style scoped>\n",
       "    .dataframe tbody tr th:only-of-type {\n",
       "        vertical-align: middle;\n",
       "    }\n",
       "\n",
       "    .dataframe tbody tr th {\n",
       "        vertical-align: top;\n",
       "    }\n",
       "\n",
       "    .dataframe thead th {\n",
       "        text-align: right;\n",
       "    }\n",
       "</style>\n",
       "<table border=\"1\" class=\"dataframe\">\n",
       "  <thead>\n",
       "    <tr style=\"text-align: right;\">\n",
       "      <th></th>\n",
       "      <th>VideoID</th>\n",
       "      <th>Start</th>\n",
       "      <th>End</th>\n",
       "      <th>WorkerID</th>\n",
       "      <th>Source</th>\n",
       "      <th>AnnotationTime</th>\n",
       "      <th>Language</th>\n",
       "      <th>Description</th>\n",
       "    </tr>\n",
       "  </thead>\n",
       "  <tbody>\n",
       "    <tr>\n",
       "      <th>0</th>\n",
       "      <td>mv89psg6zh4</td>\n",
       "      <td>33</td>\n",
       "      <td>46</td>\n",
       "      <td>588702</td>\n",
       "      <td>unverified</td>\n",
       "      <td>55</td>\n",
       "      <td>Slovene</td>\n",
       "      <td>Papagaj se umiva pod tekočo vodo v lijaku.</td>\n",
       "    </tr>\n",
       "    <tr>\n",
       "      <th>1</th>\n",
       "      <td>mv89psg6zh4</td>\n",
       "      <td>33</td>\n",
       "      <td>46</td>\n",
       "      <td>588702</td>\n",
       "      <td>unverified</td>\n",
       "      <td>37</td>\n",
       "      <td>Slovene</td>\n",
       "      <td>Papagaj se umiva pod tekočo vodo v lijaku.</td>\n",
       "    </tr>\n",
       "    <tr>\n",
       "      <th>2</th>\n",
       "      <td>mv89psg6zh4</td>\n",
       "      <td>33</td>\n",
       "      <td>46</td>\n",
       "      <td>362812</td>\n",
       "      <td>unverified</td>\n",
       "      <td>11</td>\n",
       "      <td>Macedonian</td>\n",
       "      <td>папагал се бања</td>\n",
       "    </tr>\n",
       "    <tr>\n",
       "      <th>3</th>\n",
       "      <td>mv89psg6zh4</td>\n",
       "      <td>33</td>\n",
       "      <td>46</td>\n",
       "      <td>968828</td>\n",
       "      <td>unverified</td>\n",
       "      <td>84</td>\n",
       "      <td>German</td>\n",
       "      <td>Ein Wellensittich duscht unter einem Wasserhahn.</td>\n",
       "    </tr>\n",
       "    <tr>\n",
       "      <th>4</th>\n",
       "      <td>mv89psg6zh4</td>\n",
       "      <td>33</td>\n",
       "      <td>46</td>\n",
       "      <td>203142</td>\n",
       "      <td>unverified</td>\n",
       "      <td>14</td>\n",
       "      <td>Romanian</td>\n",
       "      <td>o pasare sta intr-o chiuveta.</td>\n",
       "    </tr>\n",
       "  </tbody>\n",
       "</table>\n",
       "</div>"
      ],
      "text/plain": [
       "       VideoID  Start  End  WorkerID      Source  AnnotationTime    Language  \\\n",
       "0  mv89psg6zh4     33   46    588702  unverified              55     Slovene   \n",
       "1  mv89psg6zh4     33   46    588702  unverified              37     Slovene   \n",
       "2  mv89psg6zh4     33   46    362812  unverified              11  Macedonian   \n",
       "3  mv89psg6zh4     33   46    968828  unverified              84      German   \n",
       "4  mv89psg6zh4     33   46    203142  unverified              14    Romanian   \n",
       "\n",
       "                                        Description  \n",
       "0        Papagaj se umiva pod tekočo vodo v lijaku.  \n",
       "1        Papagaj se umiva pod tekočo vodo v lijaku.  \n",
       "2                                   папагал се бања  \n",
       "3  Ein Wellensittich duscht unter einem Wasserhahn.  \n",
       "4                     o pasare sta intr-o chiuveta.  "
      ]
     },
     "execution_count": 4,
     "metadata": {},
     "output_type": "execute_result"
    }
   ],
   "source": [
    "df.head()"
   ]
  },
  {
   "cell_type": "code",
   "execution_count": 5,
   "metadata": {},
   "outputs": [
    {
     "data": {
      "text/html": [
       "<div>\n",
       "<style scoped>\n",
       "    .dataframe tbody tr th:only-of-type {\n",
       "        vertical-align: middle;\n",
       "    }\n",
       "\n",
       "    .dataframe tbody tr th {\n",
       "        vertical-align: top;\n",
       "    }\n",
       "\n",
       "    .dataframe thead th {\n",
       "        text-align: right;\n",
       "    }\n",
       "</style>\n",
       "<table border=\"1\" class=\"dataframe\">\n",
       "  <thead>\n",
       "    <tr style=\"text-align: right;\">\n",
       "      <th></th>\n",
       "      <th>Start</th>\n",
       "      <th>End</th>\n",
       "      <th>WorkerID</th>\n",
       "      <th>AnnotationTime</th>\n",
       "    </tr>\n",
       "  </thead>\n",
       "  <tbody>\n",
       "    <tr>\n",
       "      <th>count</th>\n",
       "      <td>122604.000000</td>\n",
       "      <td>122604.000000</td>\n",
       "      <td>122604.000000</td>\n",
       "      <td>122604.000000</td>\n",
       "    </tr>\n",
       "    <tr>\n",
       "      <th>mean</th>\n",
       "      <td>77.370143</td>\n",
       "      <td>87.319337</td>\n",
       "      <td>526368.946649</td>\n",
       "      <td>79.590560</td>\n",
       "    </tr>\n",
       "    <tr>\n",
       "      <th>std</th>\n",
       "      <td>118.899799</td>\n",
       "      <td>118.361142</td>\n",
       "      <td>261638.665266</td>\n",
       "      <td>176.854277</td>\n",
       "    </tr>\n",
       "    <tr>\n",
       "      <th>min</th>\n",
       "      <td>0.000000</td>\n",
       "      <td>3.000000</td>\n",
       "      <td>100234.000000</td>\n",
       "      <td>5.000000</td>\n",
       "    </tr>\n",
       "    <tr>\n",
       "      <th>25%</th>\n",
       "      <td>7.000000</td>\n",
       "      <td>18.000000</td>\n",
       "      <td>297776.000000</td>\n",
       "      <td>24.000000</td>\n",
       "    </tr>\n",
       "    <tr>\n",
       "      <th>50%</th>\n",
       "      <td>32.000000</td>\n",
       "      <td>42.000000</td>\n",
       "      <td>553878.000000</td>\n",
       "      <td>39.000000</td>\n",
       "    </tr>\n",
       "    <tr>\n",
       "      <th>75%</th>\n",
       "      <td>98.000000</td>\n",
       "      <td>108.000000</td>\n",
       "      <td>760882.000000</td>\n",
       "      <td>69.000000</td>\n",
       "    </tr>\n",
       "    <tr>\n",
       "      <th>max</th>\n",
       "      <td>997.000000</td>\n",
       "      <td>1004.000000</td>\n",
       "      <td>998645.000000</td>\n",
       "      <td>3590.000000</td>\n",
       "    </tr>\n",
       "  </tbody>\n",
       "</table>\n",
       "</div>"
      ],
      "text/plain": [
       "               Start            End       WorkerID  AnnotationTime\n",
       "count  122604.000000  122604.000000  122604.000000   122604.000000\n",
       "mean       77.370143      87.319337  526368.946649       79.590560\n",
       "std       118.899799     118.361142  261638.665266      176.854277\n",
       "min         0.000000       3.000000  100234.000000        5.000000\n",
       "25%         7.000000      18.000000  297776.000000       24.000000\n",
       "50%        32.000000      42.000000  553878.000000       39.000000\n",
       "75%        98.000000     108.000000  760882.000000       69.000000\n",
       "max       997.000000    1004.000000  998645.000000     3590.000000"
      ]
     },
     "execution_count": 5,
     "metadata": {},
     "output_type": "execute_result"
    }
   ],
   "source": [
    "df.describe()"
   ]
  },
  {
   "cell_type": "code",
   "execution_count": 6,
   "metadata": {},
   "outputs": [
    {
     "data": {
      "text/plain": [
       "(122604, 8)"
      ]
     },
     "execution_count": 6,
     "metadata": {},
     "output_type": "execute_result"
    }
   ],
   "source": [
    "df.shape"
   ]
  },
  {
   "cell_type": "code",
   "execution_count": 7,
   "metadata": {},
   "outputs": [
    {
     "data": {
      "text/plain": [
       "35"
      ]
     },
     "execution_count": 7,
     "metadata": {},
     "output_type": "execute_result"
    }
   ],
   "source": [
    "df['VideoID'].nunique()\n",
    "df['Language'].nunique()"
   ]
  },
  {
   "cell_type": "code",
   "execution_count": 8,
   "metadata": {},
   "outputs": [],
   "source": [
    "import os,os.path"
   ]
  },
  {
   "cell_type": "code",
   "execution_count": 9,
   "metadata": {},
   "outputs": [],
   "source": [
    "path,dirs,files=next(os.walk(\"video_captioning_dataset/YouTubeClips/YouTubeClips\"))\n",
    "file_count=len(files)"
   ]
  },
  {
   "cell_type": "code",
   "execution_count": 10,
   "metadata": {},
   "outputs": [
    {
     "name": "stdout",
     "output_type": "stream",
     "text": [
      "1969\n"
     ]
    }
   ],
   "source": [
    "print(file_count)"
   ]
  },
  {
   "cell_type": "code",
   "execution_count": 11,
   "metadata": {},
   "outputs": [],
   "source": [
    "# process video captions in english language\n",
    "is_eng =  df['Language']=='English'\n",
    "df_eng = df[is_eng]"
   ]
  },
  {
   "cell_type": "code",
   "execution_count": 12,
   "metadata": {},
   "outputs": [
    {
     "data": {
      "text/plain": [
       "(85511, 8)"
      ]
     },
     "execution_count": 12,
     "metadata": {},
     "output_type": "execute_result"
    }
   ],
   "source": [
    "df_eng.shape"
   ]
  },
  {
   "cell_type": "code",
   "execution_count": 13,
   "metadata": {},
   "outputs": [
    {
     "data": {
      "text/html": [
       "<div>\n",
       "<style scoped>\n",
       "    .dataframe tbody tr th:only-of-type {\n",
       "        vertical-align: middle;\n",
       "    }\n",
       "\n",
       "    .dataframe tbody tr th {\n",
       "        vertical-align: top;\n",
       "    }\n",
       "\n",
       "    .dataframe thead th {\n",
       "        text-align: right;\n",
       "    }\n",
       "</style>\n",
       "<table border=\"1\" class=\"dataframe\">\n",
       "  <thead>\n",
       "    <tr style=\"text-align: right;\">\n",
       "      <th></th>\n",
       "      <th>VideoID</th>\n",
       "      <th>Start</th>\n",
       "      <th>End</th>\n",
       "      <th>WorkerID</th>\n",
       "      <th>Source</th>\n",
       "      <th>AnnotationTime</th>\n",
       "      <th>Language</th>\n",
       "      <th>Description</th>\n",
       "    </tr>\n",
       "  </thead>\n",
       "  <tbody>\n",
       "    <tr>\n",
       "      <th>18</th>\n",
       "      <td>mv89psg6zh4</td>\n",
       "      <td>33</td>\n",
       "      <td>46</td>\n",
       "      <td>682611</td>\n",
       "      <td>clean</td>\n",
       "      <td>66</td>\n",
       "      <td>English</td>\n",
       "      <td>A bird in a sink keeps getting under the runni...</td>\n",
       "    </tr>\n",
       "    <tr>\n",
       "      <th>19</th>\n",
       "      <td>mv89psg6zh4</td>\n",
       "      <td>33</td>\n",
       "      <td>46</td>\n",
       "      <td>760882</td>\n",
       "      <td>clean</td>\n",
       "      <td>16</td>\n",
       "      <td>English</td>\n",
       "      <td>A bird is bathing in a sink.</td>\n",
       "    </tr>\n",
       "    <tr>\n",
       "      <th>20</th>\n",
       "      <td>mv89psg6zh4</td>\n",
       "      <td>33</td>\n",
       "      <td>46</td>\n",
       "      <td>878566</td>\n",
       "      <td>clean</td>\n",
       "      <td>76</td>\n",
       "      <td>English</td>\n",
       "      <td>A bird is splashing around under a running fau...</td>\n",
       "    </tr>\n",
       "    <tr>\n",
       "      <th>21</th>\n",
       "      <td>mv89psg6zh4</td>\n",
       "      <td>33</td>\n",
       "      <td>46</td>\n",
       "      <td>707318</td>\n",
       "      <td>clean</td>\n",
       "      <td>14</td>\n",
       "      <td>English</td>\n",
       "      <td>A bird is bathing in a sink.</td>\n",
       "    </tr>\n",
       "    <tr>\n",
       "      <th>22</th>\n",
       "      <td>mv89psg6zh4</td>\n",
       "      <td>33</td>\n",
       "      <td>46</td>\n",
       "      <td>135621</td>\n",
       "      <td>clean</td>\n",
       "      <td>58</td>\n",
       "      <td>English</td>\n",
       "      <td>A bird is standing in a sink drinking water th...</td>\n",
       "    </tr>\n",
       "  </tbody>\n",
       "</table>\n",
       "</div>"
      ],
      "text/plain": [
       "        VideoID  Start  End  WorkerID Source  AnnotationTime Language  \\\n",
       "18  mv89psg6zh4     33   46    682611  clean              66  English   \n",
       "19  mv89psg6zh4     33   46    760882  clean              16  English   \n",
       "20  mv89psg6zh4     33   46    878566  clean              76  English   \n",
       "21  mv89psg6zh4     33   46    707318  clean              14  English   \n",
       "22  mv89psg6zh4     33   46    135621  clean              58  English   \n",
       "\n",
       "                                          Description  \n",
       "18  A bird in a sink keeps getting under the runni...  \n",
       "19                       A bird is bathing in a sink.  \n",
       "20  A bird is splashing around under a running fau...  \n",
       "21                       A bird is bathing in a sink.  \n",
       "22  A bird is standing in a sink drinking water th...  "
      ]
     },
     "execution_count": 13,
     "metadata": {},
     "output_type": "execute_result"
    }
   ],
   "source": [
    "df_eng.head()"
   ]
  },
  {
   "cell_type": "code",
   "execution_count": 14,
   "metadata": {},
   "outputs": [
    {
     "data": {
      "text/plain": [
       "85511"
      ]
     },
     "execution_count": 14,
     "metadata": {},
     "output_type": "execute_result"
    }
   ],
   "source": [
    "len(df_eng)"
   ]
  },
  {
   "cell_type": "code",
   "execution_count": 15,
   "metadata": {},
   "outputs": [
    {
     "name": "stdout",
     "output_type": "stream",
     "text": [
      "mv89psg6zh4\n"
     ]
    }
   ],
   "source": [
    "print(df_eng['VideoID'].iloc[0])"
   ]
  },
  {
   "cell_type": "code",
   "execution_count": 16,
   "metadata": {},
   "outputs": [],
   "source": [
    "descriptions={}\n",
    "for i in range(len(df_eng)):\n",
    "    if df_eng['VideoID'].iloc[i] not in descriptions:\n",
    "        descriptions[df_eng['VideoID'].iloc[i]]=[]\n",
    "    descriptions[df_eng['VideoID'].iloc[i]].append(df_eng['Description'].iloc[i])\n",
    "    #if i==5:\n",
    "       # break\n",
    "       "
   ]
  },
  {
   "cell_type": "code",
   "execution_count": 17,
   "metadata": {},
   "outputs": [
    {
     "name": "stdout",
     "output_type": "stream",
     "text": [
      "1586\n"
     ]
    }
   ],
   "source": [
    "print(len(descriptions))"
   ]
  },
  {
   "cell_type": "code",
   "execution_count": 42,
   "metadata": {},
   "outputs": [
    {
     "data": {
      "text/plain": [
       "[\"A squirrel is eating a peanut in it's shell.\",\n",
       " 'A chipmunk is eating.',\n",
       " 'A chipmunk is eating a peanut.',\n",
       " 'A chipmunk is eating a nut.',\n",
       " 'A squirrel is eating a nut.',\n",
       " 'A squirrel is eating a whole peanut.',\n",
       " 'A squirrel is eating a peanut.',\n",
       " 'A squirrel=l is eating nuts.',\n",
       " 'A small squirrel is eating a peanut.',\n",
       " 'A small animal is chewing on a nut.',\n",
       " 'An ardilla is eating.',\n",
       " 'A squirrel is eating a nut.',\n",
       " 'A chipmunk is eating some food.',\n",
       " 'The squirrel is eating.',\n",
       " 'A ferret eats a leaf.',\n",
       " 'A hamster is eating a peanut.',\n",
       " 'A ardilla coreana eating.',\n",
       " 'the rabbit is eating',\n",
       " 'A chipmunk is eating a peanut.',\n",
       " 'A rabbit is eating',\n",
       " 'a rabbit is eating',\n",
       " 'a squirrel eating a fruit',\n",
       " 'A chipmunk is eating.',\n",
       " 'A man is playing guitar',\n",
       " 'A squirrel or some such animal eating a nut of some kind.',\n",
       " 'A chipmunk is eating some food.',\n",
       " 'A rat is playing and eating something.',\n",
       " 'The squirrel ate the peanut out of the shell.',\n",
       " 'The squirrel is eating.']"
      ]
     },
     "execution_count": 42,
     "metadata": {},
     "output_type": "execute_result"
    }
   ],
   "source": [
    "#descriptions['-4wsuPCjDBc']\n",
    "#['mv89psg6zh4']"
   ]
  },
  {
   "cell_type": "code",
   "execution_count": 19,
   "metadata": {},
   "outputs": [],
   "source": [
    "# view the first two items in teh dictionary\n",
    "descriptions_items=descriptions.items()\n",
    "#list(descriptions_items)[:2]\n",
    "# get the clean list of video_id's\n",
    "my_videos=list(descriptions.keys())\n",
    "#print(my_videos[1:5])\n",
    "\n",
    "#copy all the files with english captions to a diff folder for each of the training,testing and validation sets\n",
    "source_folder='video_captioning_dataset/YouTubeClips/YouTubeClips'\n",
    "dest_folder = 'video_captioning_dataset/YouTubeClips/Eng_YouTubeClips'\n",
    "for folders, subfolders, filenames in os.walk(source_folder):\n",
    "    for filename in filenames:\n",
    "        nfilename=filename.split('_')[0]\n",
    "        if nfilename in my_videos:\n",
    "            shutil.copy(os.path.join(folders, filename), dest_folder)\n",
    "    \n"
   ]
  },
  {
   "cell_type": "code",
   "execution_count": 20,
   "metadata": {},
   "outputs": [
    {
     "name": "stdout",
     "output_type": "stream",
     "text": [
      "1613\n"
     ]
    }
   ],
   "source": [
    "# check the count of files in the new folder\n",
    "path,dirs,files=next(os.walk(\"video_captioning_dataset/YouTubeClips/Eng_YouTubeClips\"))\n",
    "file_count=len(files)\n",
    "print(file_count)"
   ]
  },
  {
   "cell_type": "code",
   "execution_count": 21,
   "metadata": {},
   "outputs": [],
   "source": [
    "# split data set into train and test sets\n",
    "allfilenames=os.listdir(\"video_captioning_dataset/YouTubeClips/Eng_YouTubeClips\")\n",
    "np.random.shuffle(allfilenames)\n",
    "#allfilenames[1:5]\n",
    "train_filenames, val_filenames, test_filenames = np.split(np.array(allfilenames),\n",
    "                                                          [int(len(allfilenames)*0.8), int(len(allfilenames)*0.95)])\n"
   ]
  },
  {
   "cell_type": "code",
   "execution_count": 22,
   "metadata": {},
   "outputs": [],
   "source": [
    "#print('Total images:',len(allfilenames))\n",
    "#print('Training:',len(train_filenames))\n",
    "#print('validation:',len(val_filenames))\n",
    "#print('Test:',len(test_filenames))\n",
    "#copy files into diff folders\n",
    "for name in train_filenames:\n",
    "    shutil.copy(os.path.join(dest_folder,name),\"video_captioning_dataset/YouTubeClips/Training_clips\")\n",
    "    \n",
    "for name in val_filenames:\n",
    "    shutil.copy(os.path.join(dest_folder,name),\"video_captioning_dataset/YouTubeClips/Validation_clips\")\n",
    "for name in test_filenames:\n",
    "    shutil.copy(os.path.join(dest_folder,name),\"video_captioning_dataset/YouTubeClips/Testing_clips\")    "
   ]
  },
  {
   "cell_type": "code",
   "execution_count": 64,
   "metadata": {},
   "outputs": [],
   "source": [
    "# seperate captions for train, validate and test data sets\n",
    "#training_captions={x:data[x] for x in descriptions if x in trainingfilenames}\n",
    "import csv\n",
    "sourcefolder=os.listdir(\"video_captioning_dataset/YouTubeClips/Training_clips\")\n",
    "training_captions={}\n",
    "\n",
    "for filename in sourcefolder:\n",
    "    nfilename=filename.split('_')[0]\n",
    "    #print(nfilename)\n",
    "    training_captions[nfilename]=descriptions[nfilename]\n",
    "\n",
    " \n",
    "\n",
    "# with open('training_text.csv', 'w') as f:\n",
    "#    #training_text.truncate()\n",
    "#    for key in training_captions.keys():\n",
    "#        f.write(\"%s,%s\\n\"%(key,training_captions[key]))\n",
    "#f.close()        \n",
    "        "
   ]
  },
  {
   "cell_type": "code",
   "execution_count": 112,
   "metadata": {},
   "outputs": [],
   "source": [
    "from PIL import Image\n",
    "from keras.preprocessing import image\n",
    "import cv2\n",
    "\n",
    "os.getcwd()\n",
    "def load_image(path):\n",
    "    \"\"\" Load image from path. Return a numpy array \"\"\"\n",
    "    image = Image.open(path)\n",
    "    return np.asarray(image) / 255\n",
    "\n",
    "def show_video(idx,train):\n",
    "    if train:\n",
    "        imagefolder='video_captioning_dataset/YouTubeClips/Training_clips'\n",
    "        images_files=os.listdir(\"video_captioning_dataset/YouTubeClips/Training_clips\")\n",
    "        filename=images_files[idx]\n",
    "        imageid=filename.split('_')[0]\n",
    "        captions=training_captions[imageid]\n",
    "        for caption in captions:\n",
    "            print(\"caption\")\n",
    "        path=os.path.join(imagefolder,filename)        \n",
    "        cap=cv2.VideoCapture(path)\n",
    "        \n",
    "        #print(filename)\n",
    "        while(cap.isOpened()):\n",
    "            ret,frame=cap.read()\n",
    "            if ret == True:\n",
    "                cv2.imshow('Frame',frame) \n",
    "                if cv2.waitKey(25) & 0xFF==ord('q'):\n",
    "                    break\n",
    "        #else:\n",
    "           # print(\"error in  loading the video file\")\n",
    "           # break\n",
    "    #else:\n",
    "       # break\n",
    "        "
   ]
  },
  {
   "cell_type": "code",
   "execution_count": null,
   "metadata": {},
   "outputs": [
    {
     "name": "stdout",
     "output_type": "stream",
     "text": [
      "caption\n",
      "caption\n",
      "caption\n",
      "caption\n",
      "caption\n",
      "caption\n",
      "caption\n",
      "caption\n",
      "caption\n",
      "caption\n",
      "caption\n",
      "caption\n",
      "caption\n",
      "caption\n",
      "caption\n",
      "caption\n",
      "caption\n",
      "caption\n",
      "caption\n",
      "caption\n",
      "caption\n",
      "caption\n",
      "caption\n",
      "caption\n",
      "caption\n",
      "caption\n",
      "caption\n",
      "caption\n",
      "caption\n",
      "caption\n",
      "caption\n",
      "caption\n",
      "caption\n",
      "caption\n",
      "caption\n",
      "caption\n",
      "caption\n",
      "caption\n",
      "caption\n",
      "caption\n",
      "caption\n",
      "caption\n",
      "caption\n",
      "caption\n",
      "caption\n",
      "caption\n",
      "caption\n",
      "caption\n",
      "caption\n",
      "caption\n",
      "caption\n",
      "caption\n",
      "caption\n",
      "caption\n",
      "caption\n",
      "caption\n",
      "caption\n",
      "caption\n",
      "caption\n"
     ]
    }
   ],
   "source": [
    "show_video(idx=2,train=True)"
   ]
  },
  {
   "cell_type": "code",
   "execution_count": 93,
   "metadata": {},
   "outputs": [],
   "source": [
    "#cleaning\n",
    "#from string import digits\n",
    "\n",
    "def clean_text(string):\n",
    "    string=str(string)\n",
    "    string=re.sub(\"[^a-zA-Z]\",\" \",string)\n",
    "    string=re.sub(\"[^a-zA-Z]\",\" \",string)\n",
    "    string=string.lower()\n",
    "    string=string.split()\n",
    "    string=[s for s in string if len(s)>1]\n",
    "    string=[s for s in string if s not in stopwords.words('english')]\n",
    "    string=\" \".join(string)\n",
    "    return string"
   ]
  },
  {
   "cell_type": "code",
   "execution_count": 44,
   "metadata": {},
   "outputs": [
    {
     "data": {
      "text/plain": [
       "'cockatiel kitchen sink playing running water'"
      ]
     },
     "execution_count": 44,
     "metadata": {},
     "output_type": "execute_result"
    }
   ],
   "source": [
    "clean_text(\"A cockatiel in a kitchen$5% sink 789playing under the running water 6.5.\")"
   ]
  },
  {
   "cell_type": "code",
   "execution_count": 45,
   "metadata": {},
   "outputs": [
    {
     "name": "stdout",
     "output_type": "stream",
     "text": [
      "['A bird in a sink keeps getting under the running water from a faucet.', 'A bird is bathing in a sink.', 'A bird is splashing around under a running faucet.', 'A bird is bathing in a sink.', 'A bird is standing in a sink drinking water that is pouring out of the facet.', 'A faucet is running while a bird stands in the sink below.', 'A bird is playing in a sink with running water.', 'A bird is playing in tap water.', 'A bird is bathing in the sink.', 'A bird is taking a bath.', 'A bird is taking a shower in a sink.', 'A bird is showering in the sink.', 'The bird is taking a bath under the faucet.', 'A parakeet is taking a shower in a sink.', 'A bird gets washed.', 'A bird is having a bath in the kitchen sink.', 'A bird is bathing in a sink under running water.', 'the bird is drinking water', 'A bird walks under a running tap in a sink.', 'a parrot is playing inside the wash basin.', 'a bird in a sink n playing with water', 'A bird is playing in a sink.', 'A cockatiel in a kitchen sink playing under the running water.', 'A bird is taking a bath in a sink.', 'A bird  is playing in the sink.', 'The white birt took a bath in the sink.', 'a bird is playing', 'The bird is taking a bath in the sink.', 'A bird is drinking out of the sink.']\n"
     ]
    }
   ],
   "source": [
    "for x in descriptions:\n",
    "    print(descriptions[x])\n",
    "    break"
   ]
  },
  {
   "cell_type": "code",
   "execution_count": 62,
   "metadata": {},
   "outputs": [],
   "source": [
    "# modify the descriptions of all teh video text\n",
    "for key,desc_list in descriptions.items():\n",
    "    for i in range(len(desc_list)):\n",
    "        desc_list[i]=clean_text(desc_list[i])\n",
    "            #print(desc_list[i])\n",
    "   \n",
    "            \n",
    "   "
   ]
  },
  {
   "cell_type": "code",
   "execution_count": 78,
   "metadata": {},
   "outputs": [
    {
     "data": {
      "text/plain": [
       "13681"
      ]
     },
     "execution_count": 78,
     "metadata": {},
     "output_type": "execute_result"
    }
   ],
   "source": [
    "len(vocabulary)"
   ]
  },
  {
   "cell_type": "code",
   "execution_count": 25,
   "metadata": {},
   "outputs": [],
   "source": [
    "list_descriptions=df_eng.Description.tolist()"
   ]
  },
  {
   "cell_type": "code",
   "execution_count": 26,
   "metadata": {},
   "outputs": [
    {
     "data": {
      "text/plain": [
       "85511"
      ]
     },
     "execution_count": 26,
     "metadata": {},
     "output_type": "execute_result"
    }
   ],
   "source": [
    "len(list_descriptions)"
   ]
  },
  {
   "cell_type": "code",
   "execution_count": 27,
   "metadata": {},
   "outputs": [],
   "source": [
    "clean_list= list()\n",
    "for i in range(len(list_descriptions)):\n",
    "    clean_string=clean_text(list_descriptions[i])\n",
    "    clean_list.append(clean_string)"
   ]
  },
  {
   "cell_type": "code",
   "execution_count": 28,
   "metadata": {},
   "outputs": [
    {
     "data": {
      "text/plain": [
       "'lady peeled eggplant'"
      ]
     },
     "execution_count": 28,
     "metadata": {},
     "output_type": "execute_result"
    }
   ],
   "source": [
    "clean_list[2500]"
   ]
  },
  {
   "cell_type": "code",
   "execution_count": 35,
   "metadata": {},
   "outputs": [
    {
     "data": {
      "text/plain": [
       "3"
      ]
     },
     "execution_count": 35,
     "metadata": {},
     "output_type": "execute_result"
    }
   ],
   "source": [
    "# find unique vocabulaty\n",
    "temp=clean_list[2500]\n",
    "words=clean_list[2500].split(' ')\n",
    "len(clean_list)\n",
    "len(words)"
   ]
  },
  {
   "cell_type": "code",
   "execution_count": 36,
   "metadata": {},
   "outputs": [
    {
     "data": {
      "text/plain": [
       "12756"
      ]
     },
     "execution_count": 36,
     "metadata": {},
     "output_type": "execute_result"
    }
   ],
   "source": [
    "# total distinct words\n",
    "vocabulary=set()\n",
    "for i in range(len(clean_list)):\n",
    "    vocabulary.update(clean_list[i].split(' '))\n",
    "#vocabulary size\n",
    "len(vocabulary)\n"
   ]
  },
  {
   "cell_type": "code",
   "execution_count": 38,
   "metadata": {},
   "outputs": [],
   "source": [
    "voc_size=12756\n",
    "onehot_repr=[one_hot(words,voc_size)for words in clean_list]"
   ]
  },
  {
   "cell_type": "code",
   "execution_count": 41,
   "metadata": {},
   "outputs": [
    {
     "data": {
      "text/plain": [
       "['bird sink keeps getting running water faucet',\n",
       " 'bird bathing sink',\n",
       " 'bird splashing around running faucet',\n",
       " 'bird bathing sink',\n",
       " 'bird standing sink drinking water pouring facet']"
      ]
     },
     "execution_count": 41,
     "metadata": {},
     "output_type": "execute_result"
    }
   ],
   "source": [
    "clean_list[0:5]"
   ]
  },
  {
   "cell_type": "code",
   "execution_count": 42,
   "metadata": {},
   "outputs": [
    {
     "data": {
      "text/plain": [
       "[[11528, 8830, 11081, 995, 10263, 11466, 1358],\n",
       " [11528, 10898, 8830],\n",
       " [11528, 771, 7261, 10263, 1358],\n",
       " [11528, 10898, 8830],\n",
       " [11528, 6208, 8830, 4873, 11466, 7232, 10324]]"
      ]
     },
     "execution_count": 42,
     "metadata": {},
     "output_type": "execute_result"
    }
   ],
   "source": [
    "# print one hot representation of words\n",
    "onehot_repr[0:5]"
   ]
  },
  {
   "cell_type": "code",
   "execution_count": 45,
   "metadata": {},
   "outputs": [],
   "source": [
    "#Word Embedding Representation\n",
    "from tensorflow.keras.layers import Embedding\n",
    "from tensorflow.keras.preprocessing.sequence import pad_sequences\n",
    "from tensorflow.keras.models import Sequential\n",
    "import numpy as np"
   ]
  },
  {
   "cell_type": "code",
   "execution_count": 51,
   "metadata": {},
   "outputs": [
    {
     "data": {
      "text/plain": [
       "88"
      ]
     },
     "execution_count": 51,
     "metadata": {},
     "output_type": "execute_result"
    }
   ],
   "source": [
    "max_len=-1\n",
    "for ele in clean_list:\n",
    "    if len(ele)>max_len:\n",
    "        max_len=len(ele)\n",
    "        res=ele\n",
    "len(res.split(' '))  "
   ]
  },
  {
   "cell_type": "code",
   "execution_count": 52,
   "metadata": {},
   "outputs": [],
   "source": [
    "#padding one hot representation using pre method\n",
    "sent_length=88\n",
    "embedded_docs=pad_sequences(onehot_repr,padding='pre',maxlen=sent_length)"
   ]
  },
  {
   "cell_type": "code",
   "execution_count": 53,
   "metadata": {},
   "outputs": [
    {
     "data": {
      "text/plain": [
       "array([    0,     0,     0,     0,     0,     0,     0,     0,     0,\n",
       "           0,     0,     0,     0,     0,     0,     0,     0,     0,\n",
       "           0,     0,     0,     0,     0,     0,     0,     0,     0,\n",
       "           0,     0,     0,     0,     0,     0,     0,     0,     0,\n",
       "           0,     0,     0,     0,     0,     0,     0,     0,     0,\n",
       "           0,     0,     0,     0,     0,     0,     0,     0,     0,\n",
       "           0,     0,     0,     0,     0,     0,     0,     0,     0,\n",
       "           0,     0,     0,     0,     0,     0,     0,     0,     0,\n",
       "           0,     0,     0,     0,     0,     0,     0,     0,     0,\n",
       "       11528,  8830, 11081,   995, 10263, 11466,  1358])"
      ]
     },
     "execution_count": 53,
     "metadata": {},
     "output_type": "execute_result"
    }
   ],
   "source": [
    "embedded_docs[0]"
   ]
  },
  {
   "cell_type": "code",
   "execution_count": null,
   "metadata": {},
   "outputs": [],
   "source": [
    "# taking a dimension of 100 \n",
    "dim=100"
   ]
  },
  {
   "cell_type": "code",
   "execution_count": 54,
   "metadata": {},
   "outputs": [],
   "source": [
    "model=Sequential()\n",
    "model.add(Embedding(voc_size,100,input_length=sent_length))\n",
    "model.compile('adam','mse')"
   ]
  },
  {
   "cell_type": "code",
   "execution_count": 55,
   "metadata": {},
   "outputs": [
    {
     "data": {
      "text/plain": [
       "array([[-0.04588137, -0.00036844,  0.04107795, ...,  0.01081521,\n",
       "        -0.0018641 , -0.01832164],\n",
       "       [-0.04588137, -0.00036844,  0.04107795, ...,  0.01081521,\n",
       "        -0.0018641 , -0.01832164],\n",
       "       [-0.04588137, -0.00036844,  0.04107795, ...,  0.01081521,\n",
       "        -0.0018641 , -0.01832164],\n",
       "       ...,\n",
       "       [ 0.03030716,  0.01606182, -0.0065761 , ...,  0.03062374,\n",
       "        -0.02150539, -0.04024249],\n",
       "       [ 0.0236884 ,  0.01069669, -0.04002314, ..., -0.02003026,\n",
       "         0.01693315, -0.00209162],\n",
       "       [-0.04187291,  0.0068629 ,  0.04735855, ..., -0.03175991,\n",
       "         0.01724629,  0.01773698]], dtype=float32)"
      ]
     },
     "execution_count": 55,
     "metadata": {},
     "output_type": "execute_result"
    }
   ],
   "source": [
    "print(model.predict(embedded_docs)[0])"
   ]
  },
  {
   "cell_type": "code",
   "execution_count": 56,
   "metadata": {},
   "outputs": [
    {
     "data": {
      "text/plain": [
       "array([[[-0.04588137, -0.00036844,  0.04107795, ...,  0.01081521,\n",
       "         -0.0018641 , -0.01832164],\n",
       "        [-0.04588137, -0.00036844,  0.04107795, ...,  0.01081521,\n",
       "         -0.0018641 , -0.01832164],\n",
       "        [-0.04588137, -0.00036844,  0.04107795, ...,  0.01081521,\n",
       "         -0.0018641 , -0.01832164],\n",
       "        ...,\n",
       "        [ 0.03030716,  0.01606182, -0.0065761 , ...,  0.03062374,\n",
       "         -0.02150539, -0.04024249],\n",
       "        [ 0.0236884 ,  0.01069669, -0.04002314, ..., -0.02003026,\n",
       "          0.01693315, -0.00209162],\n",
       "        [-0.04187291,  0.0068629 ,  0.04735855, ..., -0.03175991,\n",
       "          0.01724629,  0.01773698]],\n",
       "\n",
       "       [[-0.04588137, -0.00036844,  0.04107795, ...,  0.01081521,\n",
       "         -0.0018641 , -0.01832164],\n",
       "        [-0.04588137, -0.00036844,  0.04107795, ...,  0.01081521,\n",
       "         -0.0018641 , -0.01832164],\n",
       "        [-0.04588137, -0.00036844,  0.04107795, ...,  0.01081521,\n",
       "         -0.0018641 , -0.01832164],\n",
       "        ...,\n",
       "        [ 0.01540625,  0.00233319, -0.01622102, ..., -0.00931842,\n",
       "          0.03787735, -0.03029653],\n",
       "        [ 0.04569877, -0.03620701, -0.03536608, ..., -0.04888275,\n",
       "         -0.02241467, -0.00214992],\n",
       "        [ 0.00054511,  0.03159987, -0.03767457, ...,  0.01989508,\n",
       "         -0.01187   , -0.0289964 ]],\n",
       "\n",
       "       [[-0.04588137, -0.00036844,  0.04107795, ...,  0.01081521,\n",
       "         -0.0018641 , -0.01832164],\n",
       "        [-0.04588137, -0.00036844,  0.04107795, ...,  0.01081521,\n",
       "         -0.0018641 , -0.01832164],\n",
       "        [-0.04588137, -0.00036844,  0.04107795, ...,  0.01081521,\n",
       "         -0.0018641 , -0.01832164],\n",
       "        ...,\n",
       "        [ 0.00315145, -0.02474438, -0.02871088, ..., -0.02296509,\n",
       "          0.04249049,  0.0097679 ],\n",
       "        [ 0.03030716,  0.01606182, -0.0065761 , ...,  0.03062374,\n",
       "         -0.02150539, -0.04024249],\n",
       "        [-0.04187291,  0.0068629 ,  0.04735855, ..., -0.03175991,\n",
       "          0.01724629,  0.01773698]],\n",
       "\n",
       "       ...,\n",
       "\n",
       "       [[-0.04588137, -0.00036844,  0.04107795, ...,  0.01081521,\n",
       "         -0.0018641 , -0.01832164],\n",
       "        [-0.04588137, -0.00036844,  0.04107795, ...,  0.01081521,\n",
       "         -0.0018641 , -0.01832164],\n",
       "        [-0.04588137, -0.00036844,  0.04107795, ...,  0.01081521,\n",
       "         -0.0018641 , -0.01832164],\n",
       "        ...,\n",
       "        [ 0.04561113,  0.00509109,  0.00552427, ..., -0.03111098,\n",
       "          0.02107367,  0.01410602],\n",
       "        [ 0.03644551, -0.00790216,  0.03591743, ...,  0.01972005,\n",
       "          0.00992737,  0.01494289],\n",
       "        [-0.03998856,  0.02852086, -0.04797076, ...,  0.01961507,\n",
       "         -0.0177488 ,  0.03825747]],\n",
       "\n",
       "       [[-0.04588137, -0.00036844,  0.04107795, ...,  0.01081521,\n",
       "         -0.0018641 , -0.01832164],\n",
       "        [-0.04588137, -0.00036844,  0.04107795, ...,  0.01081521,\n",
       "         -0.0018641 , -0.01832164],\n",
       "        [-0.04588137, -0.00036844,  0.04107795, ...,  0.01081521,\n",
       "         -0.0018641 , -0.01832164],\n",
       "        ...,\n",
       "        [ 0.00853826, -0.03058741,  0.02679653, ...,  0.04648893,\n",
       "          0.02496621, -0.00402759],\n",
       "        [ 0.01924388, -0.02665911, -0.01487014, ...,  0.04491537,\n",
       "          0.02834625,  0.00622477],\n",
       "        [-0.03787009, -0.03577734, -0.00219383, ...,  0.03177894,\n",
       "          0.0001609 ,  0.04543814]],\n",
       "\n",
       "       [[-0.04588137, -0.00036844,  0.04107795, ...,  0.01081521,\n",
       "         -0.0018641 , -0.01832164],\n",
       "        [-0.04588137, -0.00036844,  0.04107795, ...,  0.01081521,\n",
       "         -0.0018641 , -0.01832164],\n",
       "        [-0.04588137, -0.00036844,  0.04107795, ...,  0.01081521,\n",
       "         -0.0018641 , -0.01832164],\n",
       "        ...,\n",
       "        [-0.02359289,  0.00244426,  0.02011044, ...,  0.04738833,\n",
       "          0.0311969 ,  0.00972077],\n",
       "        [ 0.04561113,  0.00509109,  0.00552427, ..., -0.03111098,\n",
       "          0.02107367,  0.01410602],\n",
       "        [-0.03998856,  0.02852086, -0.04797076, ...,  0.01961507,\n",
       "         -0.0177488 ,  0.03825747]]], dtype=float32)"
      ]
     },
     "execution_count": 56,
     "metadata": {},
     "output_type": "execute_result"
    }
   ],
   "source": [
    "model.predict(embedded_docs)"
   ]
  },
  {
   "cell_type": "code",
   "execution_count": null,
   "metadata": {},
   "outputs": [],
   "source": []
  }
 ],
 "metadata": {
  "kernelspec": {
   "display_name": "Python 3",
   "language": "python",
   "name": "python3"
  },
  "language_info": {
   "codemirror_mode": {
    "name": "ipython",
    "version": 3
   },
   "file_extension": ".py",
   "mimetype": "text/x-python",
   "name": "python",
   "nbconvert_exporter": "python",
   "pygments_lexer": "ipython3",
   "version": "3.8.3"
  }
 },
 "nbformat": 4,
 "nbformat_minor": 4
}
