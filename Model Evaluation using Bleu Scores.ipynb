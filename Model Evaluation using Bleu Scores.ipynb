{
 "cells": [
  {
   "cell_type": "code",
   "execution_count": 2,
   "metadata": {},
   "outputs": [],
   "source": [
    "import nltk\n",
    "from nltk.metrics import *\n",
    "import nltk.translate.bleu_score \n",
    "from nltk.translate.bleu_score import sentence_bleu\n",
    "import pandas as pd\n",
    "import numpy as np\n",
    "import os\n",
    "import nltk"
   ]
  },
  {
   "cell_type": "code",
   "execution_count": 10,
   "metadata": {},
   "outputs": [],
   "source": [
    "# get the actual descriptions from the test file\n",
    "df_resnet_actual=pd.read_csv('video_captioning_dataset/YouTubeClips/Iteration_Resnet/test.csv')\n",
    "df_vgg16_pred=pd.read_csv('video_captioning_dataset/YouTubeClips/iteration2/video_captioning_results.txt',header=None)\n",
    "df_resnet_pred=pd.read_csv('video_captioning_dataset/YouTubeClips/Iteration_Resnet/video_captioning_results.txt',header=None)\n",
    "df_vgg16_actual=pd.read_csv('video_captioning_dataset/YouTubeClips/iteration2/test.csv')"
   ]
  },
  {
   "cell_type": "code",
   "execution_count": 11,
   "metadata": {},
   "outputs": [
    {
     "data": {
      "text/plain": [
       "648"
      ]
     },
     "execution_count": 11,
     "metadata": {},
     "output_type": "execute_result"
    }
   ],
   "source": [
    "df_resnet_pred.head()\n",
    "df_resnet_pred.shape[0]"
   ]
  },
  {
   "cell_type": "code",
   "execution_count": 12,
   "metadata": {},
   "outputs": [
    {
     "ename": "NameError",
     "evalue": "name 'df_actual' is not defined",
     "output_type": "error",
     "traceback": [
      "\u001b[1;31m---------------------------------------------------------------------------\u001b[0m",
      "\u001b[1;31mNameError\u001b[0m                                 Traceback (most recent call last)",
      "\u001b[1;32m<ipython-input-12-79295be62dba>\u001b[0m in \u001b[0;36m<module>\u001b[1;34m\u001b[0m\n\u001b[1;32m----> 1\u001b[1;33m \u001b[0mvideo_path\u001b[0m\u001b[1;33m=\u001b[0m\u001b[0mdf_actual\u001b[0m\u001b[1;33m.\u001b[0m\u001b[0mvideo_path\u001b[0m\u001b[1;33m.\u001b[0m\u001b[0munique\u001b[0m\u001b[1;33m(\u001b[0m\u001b[1;33m)\u001b[0m\u001b[1;33m\u001b[0m\u001b[1;33m\u001b[0m\u001b[0m\n\u001b[0m",
      "\u001b[1;31mNameError\u001b[0m: name 'df_actual' is not defined"
     ]
    }
   ],
   "source": [
    "video_path=df_actual.video_path.unique()"
   ]
  },
  {
   "cell_type": "code",
   "execution_count": 14,
   "metadata": {},
   "outputs": [],
   "source": [
    "actual_resnet_captions={}\n",
    "for i in range(len(df_resnet_actual)):\n",
    "    if df_resnet_actual['video_path'].iloc[i] not in actual_resnet_captions:\n",
    "        actual_resnet_captions[df_resnet_actual['video_path'].iloc[i]]=[]\n",
    "    actual_resnet_captions[df_resnet_actual['video_path'].iloc[i]].append(df_resnet_actual['Description'].iloc[i])\n",
    "    \n",
    "    \n",
    "actual_vgg16_captions={}\n",
    "for i in range(len(df_vgg16_actual)):\n",
    "    if df_vgg16_actual['video_path'].iloc[i] not in actual_vgg16_captions:\n",
    "        actual_vgg16_captions[df_vgg16_actual['video_path'].iloc[i]]=[]\n",
    "    actual_vgg16_captions[df_vgg16_actual['video_path'].iloc[i]].append(df_vgg16_actual['Description'].iloc[i])    \n",
    "        \n",
    "    "
   ]
  },
  {
   "cell_type": "code",
   "execution_count": 15,
   "metadata": {},
   "outputs": [],
   "source": [
    "video_path_resnet=list( actual_resnet_captions.keys())\n",
    "descriptions_resnet=list(actual_resnet_captions.values())\n",
    "video_path_vgg16=list( actual_vgg16_captions.keys())\n",
    "descriptions_vgg16=list(actual_vgg16_captions.values())"
   ]
  },
  {
   "cell_type": "code",
   "execution_count": 16,
   "metadata": {},
   "outputs": [],
   "source": [
    "rdescription=[]\n",
    "\n",
    "for item in descriptions_resnet:\n",
    "    sent=[str(e) for e in item]\n",
    "    #temp=sent[0]\n",
    "    rdescription.append(sent)\n",
    "    \n",
    "vdescription=[]\n",
    "\n",
    "for item in descriptions_vgg16:\n",
    "    sent=[str(e) for e in item]\n",
    "    #temp=sent[0]\n",
    "    vdescription.append(sent)    \n",
    "    "
   ]
  },
  {
   "cell_type": "code",
   "execution_count": 17,
   "metadata": {},
   "outputs": [
    {
     "ename": "NameError",
     "evalue": "name 'video_path' is not defined",
     "output_type": "error",
     "traceback": [
      "\u001b[1;31m---------------------------------------------------------------------------\u001b[0m",
      "\u001b[1;31mNameError\u001b[0m                                 Traceback (most recent call last)",
      "\u001b[1;32m<ipython-input-17-8bc485657424>\u001b[0m in \u001b[0;36m<module>\u001b[1;34m\u001b[0m\n\u001b[0;32m      1\u001b[0m \u001b[0mvideo\u001b[0m\u001b[1;33m=\u001b[0m\u001b[1;33m[\u001b[0m\u001b[1;33m]\u001b[0m\u001b[1;33m\u001b[0m\u001b[1;33m\u001b[0m\u001b[0m\n\u001b[1;32m----> 2\u001b[1;33m \u001b[1;32mfor\u001b[0m \u001b[0mitem\u001b[0m \u001b[1;32min\u001b[0m \u001b[0mvideo_path\u001b[0m\u001b[1;33m:\u001b[0m\u001b[1;33m\u001b[0m\u001b[1;33m\u001b[0m\u001b[0m\n\u001b[0m\u001b[0;32m      3\u001b[0m     \u001b[0mtemp\u001b[0m\u001b[1;33m=\u001b[0m\u001b[0mitem\u001b[0m\u001b[1;33m.\u001b[0m\u001b[0msplit\u001b[0m\u001b[1;33m(\u001b[0m\u001b[1;34m'\\\\'\u001b[0m\u001b[1;33m)\u001b[0m\u001b[1;33m[\u001b[0m\u001b[1;33m-\u001b[0m\u001b[1;36m1\u001b[0m\u001b[1;33m]\u001b[0m\u001b[1;33m\u001b[0m\u001b[1;33m\u001b[0m\u001b[0m\n\u001b[0;32m      4\u001b[0m     \u001b[0mvideo\u001b[0m\u001b[1;33m.\u001b[0m\u001b[0mappend\u001b[0m\u001b[1;33m(\u001b[0m\u001b[0mtemp\u001b[0m\u001b[1;33m)\u001b[0m\u001b[1;33m\u001b[0m\u001b[1;33m\u001b[0m\u001b[0m\n\u001b[0;32m      5\u001b[0m \u001b[1;33m\u001b[0m\u001b[0m\n",
      "\u001b[1;31mNameError\u001b[0m: name 'video_path' is not defined"
     ]
    }
   ],
   "source": [
    "video=[]\n",
    "for item in video_path:\n",
    "    temp=item.split('\\\\')[-1]\n",
    "    video.append(temp)\n",
    "    "
   ]
  },
  {
   "cell_type": "code",
   "execution_count": 18,
   "metadata": {},
   "outputs": [
    {
     "ename": "NameError",
     "evalue": "name 'ndescription' is not defined",
     "output_type": "error",
     "traceback": [
      "\u001b[1;31m---------------------------------------------------------------------------\u001b[0m",
      "\u001b[1;31mNameError\u001b[0m                                 Traceback (most recent call last)",
      "\u001b[1;32m<ipython-input-18-901f55daefa1>\u001b[0m in \u001b[0;36m<module>\u001b[1;34m\u001b[0m\n\u001b[1;32m----> 1\u001b[1;33m \u001b[0mref_captions\u001b[0m\u001b[1;33m=\u001b[0m\u001b[0mdict\u001b[0m\u001b[1;33m(\u001b[0m\u001b[0mzip\u001b[0m\u001b[1;33m(\u001b[0m\u001b[0mvideo\u001b[0m\u001b[1;33m,\u001b[0m\u001b[0mndescription\u001b[0m\u001b[1;33m)\u001b[0m\u001b[1;33m)\u001b[0m\u001b[1;33m\u001b[0m\u001b[1;33m\u001b[0m\u001b[0m\n\u001b[0m\u001b[0;32m      2\u001b[0m \u001b[1;31m#ref_captions=sorted(ref_captions)\u001b[0m\u001b[1;33m\u001b[0m\u001b[1;33m\u001b[0m\u001b[1;33m\u001b[0m\u001b[0m\n",
      "\u001b[1;31mNameError\u001b[0m: name 'ndescription' is not defined"
     ]
    }
   ],
   "source": [
    "ref_captions=dict(zip(video,ndescription))\n",
    "#ref_captions=sorted(ref_captions)"
   ]
  },
  {
   "cell_type": "code",
   "execution_count": 211,
   "metadata": {},
   "outputs": [],
   "source": [
    "#video_path[0],video[0],ndescription[0:2]"
   ]
  },
  {
   "cell_type": "code",
   "execution_count": 20,
   "metadata": {},
   "outputs": [],
   "source": [
    "#Extract predicted captions from Resnet pretrained model\n",
    "video_pred_resnet=[]\n",
    "caption_pred_resnet=[]\n",
    "rtemp=[]\n",
    "for i in range(df_resnet_pred.shape[0]):\n",
    "    if i%2==0:\n",
    "        rtemp=df_resnet_pred.iloc[i].tolist()\n",
    "        #temp=[str(e) for e in sent]\n",
    "        rtemp=str(rtemp).split('\\\\')[-1]\n",
    "        rtemp=str(rtemp).split(']')[0]\n",
    "        rtemp=str(rtemp).split(\"'\")[0]\n",
    "        video_pred_resnet.append(rtemp)\n",
    "    else:\n",
    "        cap=str(df_resnet_pred.iloc[i].tolist())\n",
    "        cap=str(cap).replace('[','').replace(']','')\n",
    "        caption_pred_resnet.append(cap)"
   ]
  },
  {
   "cell_type": "code",
   "execution_count": 21,
   "metadata": {},
   "outputs": [],
   "source": [
    "#Extract predicted captions from vgg16 pretrained model\n",
    "video_pred_vgg16=[]\n",
    "caption_pred_vgg16=[]\n",
    "vtemp=[]\n",
    "for i in range(df_vgg16_pred.shape[0]):\n",
    "    if i%2==0:\n",
    "        vtemp=df_vgg16_pred.iloc[i].tolist()\n",
    "        #temp=[str(e) for e in sent]\n",
    "        vtemp=str(vtemp).split('\\\\')[-1]\n",
    "        vtemp=str(vtemp).split(']')[0]\n",
    "        vtemp=str(vtemp).split(\"'\")[0]\n",
    "        video_pred_vgg16.append(vtemp)\n",
    "    else:\n",
    "        cap=str(df_vgg16_pred.iloc[i].tolist())\n",
    "        cap=str(cap).replace('[','').replace(']','')\n",
    "        caption_pred_vgg16.append(cap)"
   ]
  },
  {
   "cell_type": "code",
   "execution_count": 22,
   "metadata": {},
   "outputs": [
    {
     "data": {
      "text/plain": [
       "(['An animated rugby game.',\n",
       "  'Boys are playing a rugby on the ground.',\n",
       "  'Computerized rugby players are passing the ball to each other.',\n",
       "  'Men are passing a ball.',\n",
       "  'Men are tossing a ball.',\n",
       "  'Players are playing rugby.',\n",
       "  'Some animated players are playing rugby.',\n",
       "  'The man tackled the man with the ball.',\n",
       "  'The players passed the ball to each other.',\n",
       "  'The rules of rugby are demonstrated through an animated version of two teams playing the game.',\n",
       "  'The team members passed the ball to each other.',\n",
       "  'rugby video game',\n",
       "  'A rugby game in progress',\n",
       "  'Rugby Match is going on.',\n",
       "  'A team is playing rugby.',\n",
       "  'bugby game is coming in television',\n",
       "  'the basket ball players are playing in the ground',\n",
       "  'they are playing',\n",
       "  'Men pass the ball to each other.',\n",
       "  'Video game of rugby played by players.',\n",
       "  'a rugby game playing.',\n",
       "  'A group of men playing the rugby.',\n",
       "  'people were playing in a ground.',\n",
       "  'Animated rugby players are running down a field throwing a ball to each other.',\n",
       "  'Players are playing rugby.',\n",
       "  'VIDEO GAME RUGBY MEN PASSING BALL.',\n",
       "  'Men are passing a soccer ball until one man tackles the other.',\n",
       "  'Two groups are rugby on ground.',\n",
       "  'The player are playing rugby',\n",
       "  'two teams are playing a game of football',\n",
       "  'Animation of men playing soccer.',\n",
       "  'Cartoon men are playing Rugby.',\n",
       "  'On the rugby field a team shows the basics of the game.',\n",
       "  'A simulation of rugby players passing the ball.',\n",
       "  'digital rugby players are passing the ball.',\n",
       "  'all guys are playing with ball.',\n",
       "  'some players playing rugby game.',\n",
       "  'Men are playing.',\n",
       "  'A clip of a rugby video game.',\n",
       "  'a video game clip',\n",
       "  'A group is playing the rugby.',\n",
       "  'playing a game',\n",
       "  'some player playing in ground',\n",
       "  'A animated film explaining tips in handball game.',\n",
       "  'The men are playing rugby.',\n",
       "  'Team is playing.',\n",
       "  'two groups are playing ruby game',\n",
       "  'It is a soccer game of toys.',\n",
       "  'Animation characters throw a ball to one another.'],\n",
       " \"'a soccer generated soccer game is passing the ball'\")"
      ]
     },
     "execution_count": 22,
     "metadata": {},
     "output_type": "execute_result"
    }
   ],
   "source": [
    "vdescription[0],caption_pred_vgg16[0]"
   ]
  },
  {
   "cell_type": "code",
   "execution_count": 33,
   "metadata": {},
   "outputs": [],
   "source": [
    "#pred_captions=dict(zip(video_pred,caption_pred))\n",
    "#pred_captions=sorted(pred_captions)"
   ]
  },
  {
   "cell_type": "code",
   "execution_count": 24,
   "metadata": {},
   "outputs": [],
   "source": [
    "import collections"
   ]
  },
  {
   "cell_type": "code",
   "execution_count": 34,
   "metadata": {},
   "outputs": [],
   "source": [
    "def test1():\n",
    "    bleu_scores=[]\n",
    "    for i in range(len(caption_pred_resnet)):\n",
    "        reference=rdescription[i]\n",
    "        candidate=caption_pred_resnet[i]\n",
    "        score=sentence_bleu(reference,candidate)#,weights=(1,0.25,0.25,0.25))\n",
    "        bleu_scores.append(score)\n",
    "        #print(score)\n",
    "    return bleu_scores "
   ]
  },
  {
   "cell_type": "code",
   "execution_count": 35,
   "metadata": {},
   "outputs": [
    {
     "data": {
      "text/plain": [
       "(1.4874731910306748e-156, 0.975690339315189, 0.7342894185692884)"
      ]
     },
     "execution_count": 35,
     "metadata": {},
     "output_type": "execute_result"
    }
   ],
   "source": [
    "min(test1()),max(test1()),(sum(test1())/len(test1()))"
   ]
  },
  {
   "cell_type": "code",
   "execution_count": 37,
   "metadata": {},
   "outputs": [],
   "source": [
    "import matplotlib.pyplot as plt\n",
    "%matplotlib inline\n",
    "from importlib import reload\n"
   ]
  },
  {
   "cell_type": "code",
   "execution_count": 38,
   "metadata": {},
   "outputs": [
    {
     "data": {
      "image/png": "[encoded data removed]",
      "text/plain": [
       "<Figure size 432x288 with 1 Axes>"
      ]
     },
     "metadata": {
      "needs_background": "light"
     },
     "output_type": "display_data"
    }
   ],
   "source": [
    "plt.plot(test1())\n",
    "plt.title('Bleu scores-Resnet50')\n",
    "plt.xlabel('iterations')\n",
    "plt.ylabel('score')\n",
    "plt.show()"
   ]
  },
  {
   "cell_type": "code",
   "execution_count": 30,
   "metadata": {},
   "outputs": [],
   "source": [
    "def test2():\n",
    "    bleu_scores=[]\n",
    "    for i in range(len(caption_pred_vgg16)):\n",
    "        reference=vdescription[i]\n",
    "        candidate=caption_pred_vgg16[i]\n",
    "        score=sentence_bleu(reference,candidate)#,weights=(1,0.25,0.25,0.25))\n",
    "        bleu_scores.append(score)\n",
    "        if score<0.4:\n",
    "            print(score)\n",
    "            print(i)\n",
    "    return bleu_scores "
   ]
  },
  {
   "cell_type": "code",
   "execution_count": 31,
   "metadata": {},
   "outputs": [
    {
     "name": "stdout",
     "output_type": "stream",
     "text": [
      "0.3451860254472074\n",
      "7\n",
      "0.37218266015983137\n",
      "103\n",
      "0.3817666460451127\n",
      "147\n",
      "9.327292587886388e-234\n",
      "180\n"
     ]
    },
    {
     "name": "stderr",
     "output_type": "stream",
     "text": [
      "D:\\Users\\Naga\\Anaconda3\\lib\\site-packages\\nltk\\translate\\bleu_score.py:516: UserWarning: \n",
      "The hypothesis contains 0 counts of 2-gram overlaps.\n",
      "Therefore the BLEU score evaluates to 0, independently of\n",
      "how many N-gram overlaps of lower order it contains.\n",
      "Consider using lower n-gram order or use SmoothingFunction()\n",
      "  warnings.warn(_msg)\n",
      "D:\\Users\\Naga\\Anaconda3\\lib\\site-packages\\nltk\\translate\\bleu_score.py:516: UserWarning: \n",
      "The hypothesis contains 0 counts of 3-gram overlaps.\n",
      "Therefore the BLEU score evaluates to 0, independently of\n",
      "how many N-gram overlaps of lower order it contains.\n",
      "Consider using lower n-gram order or use SmoothingFunction()\n",
      "  warnings.warn(_msg)\n",
      "D:\\Users\\Naga\\Anaconda3\\lib\\site-packages\\nltk\\translate\\bleu_score.py:516: UserWarning: \n",
      "The hypothesis contains 0 counts of 4-gram overlaps.\n",
      "Therefore the BLEU score evaluates to 0, independently of\n",
      "how many N-gram overlaps of lower order it contains.\n",
      "Consider using lower n-gram order or use SmoothingFunction()\n",
      "  warnings.warn(_msg)\n"
     ]
    },
    {
     "name": "stdout",
     "output_type": "stream",
     "text": [
      "0.2995316414137092\n",
      "224\n",
      "0.29786672169361467\n",
      "239\n",
      "0.36882161790942913\n",
      "267\n",
      "0.2952818889864951\n",
      "277\n",
      "3.5384650434980955e-233\n",
      "286\n",
      "0.3451860254472074\n",
      "7\n",
      "0.37218266015983137\n",
      "103\n",
      "0.3817666460451127\n",
      "147\n",
      "9.327292587886388e-234\n",
      "180\n",
      "0.2995316414137092\n",
      "224\n",
      "0.29786672169361467\n",
      "239\n",
      "0.36882161790942913\n",
      "267\n",
      "0.2952818889864951\n",
      "277\n",
      "3.5384650434980955e-233\n",
      "286\n",
      "0.3451860254472074\n",
      "7\n",
      "0.37218266015983137\n",
      "103\n",
      "0.3817666460451127\n",
      "147\n",
      "9.327292587886388e-234\n",
      "180\n",
      "0.2995316414137092\n",
      "224\n",
      "0.29786672169361467\n",
      "239\n",
      "0.36882161790942913\n",
      "267\n",
      "0.2952818889864951\n",
      "277\n",
      "3.5384650434980955e-233\n",
      "286\n",
      "0.3451860254472074\n",
      "7\n",
      "0.37218266015983137\n",
      "103\n",
      "0.3817666460451127\n",
      "147\n",
      "9.327292587886388e-234\n",
      "180\n",
      "0.2995316414137092\n",
      "224\n",
      "0.29786672169361467\n",
      "239\n",
      "0.36882161790942913\n",
      "267\n",
      "0.2952818889864951\n",
      "277\n",
      "3.5384650434980955e-233\n",
      "286\n"
     ]
    },
    {
     "data": {
      "text/plain": [
       "(9.327292587886388e-234, 0.9502746756165023, 0.7198913023889396)"
      ]
     },
     "execution_count": 31,
     "metadata": {},
     "output_type": "execute_result"
    }
   ],
   "source": [
    "min(test2()),max(test2()),(sum(test2())/len(test2()))"
   ]
  },
  {
   "cell_type": "code",
   "execution_count": 32,
   "metadata": {},
   "outputs": [
    {
     "name": "stdout",
     "output_type": "stream",
     "text": [
      "0.3451860254472074\n",
      "7\n",
      "0.37218266015983137\n",
      "103\n",
      "0.3817666460451127\n",
      "147\n",
      "9.327292587886388e-234\n",
      "180\n",
      "0.2995316414137092\n",
      "224\n",
      "0.29786672169361467\n",
      "239\n",
      "0.36882161790942913\n",
      "267\n",
      "0.2952818889864951\n",
      "277\n",
      "3.5384650434980955e-233\n",
      "286\n"
     ]
    },
    {
     "data": {
      "image/png": "[encoded data removed]",
      "text/plain": [
       "<Figure size 432x288 with 1 Axes>"
      ]
     },
     "metadata": {
      "needs_background": "light"
     },
     "output_type": "display_data"
    }
   ],
   "source": [
    "plt.plot(test2())\n",
    "plt.title('Bleu scores-VGG16')\n",
    "plt.xlabel('iteration')\n",
    "plt.ylabel('accuracy')\n",
    "plt.show()"
   ]
  },
  {
   "cell_type": "code",
   "execution_count": null,
   "metadata": {},
   "outputs": [],
   "source": []
  }
 ],
 "metadata": {
  "kernelspec": {
   "display_name": "Python 3",
   "language": "python",
   "name": "python3"
  },
  "language_info": {
   "codemirror_mode": {
    "name": "ipython",
    "version": 3
   },
   "file_extension": ".py",
   "mimetype": "text/x-python",
   "name": "python",
   "nbconvert_exporter": "python",
   "pygments_lexer": "ipython3",
   "version": "3.8.3"
  }
 },
 "nbformat": 4,
 "nbformat_minor": 4
}
