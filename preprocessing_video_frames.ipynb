{
 "cells": [
  {
   "cell_type": "code",
   "execution_count": 103,
   "metadata": {},
   "outputs": [],
   "source": [
    "import cv2\n",
    "#from google.colab.patches import cv2_imshow\n",
    "import os\n",
    "import numpy as np\n",
    "import math\n",
    "from PIL import Image\n",
    "import PIL\n",
    "import numpy as np\n",
    "from keras.preprocessing import image\n",
    "from keras.models import Model,load_model\n",
    "from keras.applications.imagenet_utils import preprocess_input,decode_predictions\n",
    "from keras.applications.resnet50 import ResNet50\n",
    "from tensorflow.keras import backend as K\n",
    "from matplotlib import pyplot as plt\n",
    "%matplotlib inline"
   ]
  },
  {
   "cell_type": "code",
   "execution_count": 37,
   "metadata": {},
   "outputs": [],
   "source": [
    "video_path='video_captioning_dataset/mv89psg6zh4_33_46.avi'\n",
    "s_path='video_captioning_dataset/frames/'\n",
    "#source_directory='video_captioning_dataset/YouTubeClips/Eng_YouTubeClips'\n",
    "# get the length of the video\n",
    "def length_of_video(video_path):\n",
    "    cap=cv2.VideoCapture(video_path)\n",
    "    if (cap.isOpened()== False):\n",
    "        print(\"Error opening video stream or file\")\n",
    "    length=int(cap.get(cv2.CAP_PROP_FRAME_COUNT))\n",
    "    #print(length)\n",
    "    return length"
   ]
  },
  {
   "cell_type": "code",
   "execution_count": 38,
   "metadata": {},
   "outputs": [],
   "source": [
    "length=length_of_video(video_path)"
   ]
  },
  {
   "cell_type": "code",
   "execution_count": 39,
   "metadata": {},
   "outputs": [
    {
     "data": {
      "text/plain": [
       "'video_captioning_dataset/frames/1.jpg'"
      ]
     },
     "execution_count": 39,
     "metadata": {},
     "output_type": "execute_result"
    }
   ],
   "source": [
    "frame_path=s_path+'1'+'.jpg'\n",
    "frame_path"
   ]
  },
  {
   "cell_type": "code",
   "execution_count": 34,
   "metadata": {},
   "outputs": [
    {
     "name": "stdout",
     "output_type": "stream",
     "text": [
      "got P-Frame\n",
      "got P-Frame\n",
      "got P-Frame\n",
      "got P-Frame\n",
      "got P-Frame\n",
      "got P-Frame\n",
      "got P-Frame\n",
      "got P-Frame\n",
      "got P-Frame\n",
      "got P-Frame\n",
      "got P-Frame\n",
      "got P-Frame\n",
      "got P-Frame\n",
      "got P-Frame\n",
      "got P-Frame\n",
      "got P-Frame\n",
      "got P-Frame\n",
      "got P-Frame\n",
      "got P-Frame\n",
      "got P-Frame\n",
      "got P-Frame\n",
      "got P-Frame\n"
     ]
    }
   ],
   "source": [
    "#def extracting_frames(video_path,save_path,skip_frames=20):\n",
    " #   print(\"5\")\n",
    "# Extracting frames using the absolute difference between the pixels of the two image arrays\n",
    "# it gives the pixels of the objects taht are moving\n",
    "#absdiff is a 3 dim array\n",
    "p_frame_thresh=200000\n",
    "length=length_of_video(video_path)\n",
    "cap=cv2.VideoCapture(video_path) \n",
    "count=1\n",
    "ret,prev_frame=cap.read()\n",
    "    #if success and count%skip_frames==0:\n",
    "while ret:\n",
    "    ret,curr_frame=cap.read()\n",
    "    if ret:\n",
    "        count+=1\n",
    "        frame_path=s_path+str(count)+'.jpg'\n",
    "        diff=cv2.absdiff(curr_frame,prev_frame)\n",
    "        non_zero_count=np.count_nonzero(diff)\n",
    "        if non_zero_count>p_frame_thresh:\n",
    "            #print(\"got P-Frame\")\n",
    "            cv2.imwrite(frame_path,prev_frame)\n",
    "        prev_frame=curr_frame    \n",
    "    \n",
    "#frame_path=s_path+str(count)+'.jpg'\n",
    "#cv2.imwrite(frame_path,frame)\n",
    "#print(frame.shape)\n",
    "      #  count+=1\n",
    "   # print(frame_path)\n",
    "    #else:\n",
    "    #    count+=1\n",
    "cap.release()    \n",
    "        \n",
    "   "
   ]
  },
  {
   "cell_type": "code",
   "execution_count": 30,
   "metadata": {},
   "outputs": [],
   "source": [
    "# using Frame rate to extract key frames\n",
    "cap = cv2.VideoCapture(video_path)\n",
    "save_folder='video_captioning_dataset/framerate_images/'\n",
    "frameRate=cap.get(5)\n",
    "count=1\n",
    "while (cap.isOpened()):\n",
    "    frameid=cap.get(1)# current frame number\n",
    "    ret,frame=cap.read()\n",
    "    if (ret!=True):\n",
    "        break\n",
    "    if (frameid%math.floor(frameRate)==0):\n",
    "        filename=save_folder+str(count)+'.jpg'\n",
    "        cv2.imwrite(filename,frame)\n",
    "        count+=1\n",
    "cap.release()"
   ]
  },
  {
   "cell_type": "code",
   "execution_count": 91,
   "metadata": {},
   "outputs": [],
   "source": [
    "##using mean shift to extract key frames\n",
    "cap = cv2.VideoCapture(video_path)\n",
    "\n",
    "# take first frame of the video\n",
    "ret,frame = cap.read()\n",
    "\n",
    "# setup initial location of window\n",
    "r,h,c,w = 250,90,400,125  # simply hardcoded the values\n",
    "track_window = (c,r,w,h)\n",
    "\n",
    "# set up the ROI for tracking\n",
    "roi = frame[r:r+h, c:c+w]\n",
    "hsv_roi =  cv2.cvtColor(frame, cv2.COLOR_BGR2HSV)\n",
    "mask = cv2.inRange(hsv_roi, np.array((0., 60.,32.)), np.array((180.,255.,255.)))\n",
    "roi_hist = cv2.calcHist([hsv_roi],[0],mask,[180],[0,180])\n",
    "cv2.normalize(roi_hist,roi_hist,0,255,cv2.NORM_MINMAX)\n",
    "\n",
    "# Setup the termination criteria, either 10 iteration or move by atleast 1 pt\n",
    "term_crit = ( cv2.TERM_CRITERIA_EPS | cv2.TERM_CRITERIA_COUNT, 10, 1 )\n",
    "\n",
    "while(1):\n",
    "    ret ,frame = cap.read()\n",
    "\n",
    "    if ret == True:\n",
    "        hsv = cv2.cvtColor(frame, cv2.COLOR_BGR2HSV)\n",
    "        dst = cv2.calcBackProject([hsv],[0],roi_hist,[0,180],1)\n",
    "\n",
    "        # apply meanshift to get the new location\n",
    "        ret, track_window = cv2.meanShift(dst, track_window, term_crit)\n",
    "\n",
    "        # Draw it on image\n",
    "        x,y,w,h = track_window\n",
    "        img2 = cv2.rectangle(frame, (x,y), (x+w,y+h), 255,2)\n",
    "        #cv2.imshow('img2',img2)\n",
    "         \n",
    "        k = cv2.waitKey(60) & 0xff\n",
    "        #print(k)\n",
    "        if k == 27:\n",
    "            break\n",
    "        else:\n",
    "            #print(chr(k))\n",
    "            cv2.imwrite(chr(k)+\".jpg\",img2)\n",
    "\n",
    "    else:\n",
    "        break\n",
    "\n",
    "cv2.destroyAllWindows()\n",
    "cap.release()"
   ]
  },
  {
   "cell_type": "code",
   "execution_count": null,
   "metadata": {},
   "outputs": [],
   "source": [
    "#video_path='video_captioning_dataset/mv89psg6zh4_33_46.avi'\n",
    "#loop through all the video clips and generate key frames for each\n",
    "save_folder='video_captioning_dataset/YouTubeClips/Training_clips_keyframes/'\n",
    "source_directory='video_captioning_dataset/YouTubeClips/Training_clips'\n",
    "# get the length of the video\n",
    "for filename in os.listdir(source_directory):\n",
    "    #print(filename)\n",
    "    if not filename.endswith('avi'):\n",
    "        break\n",
    "    else:\n",
    "        video_path=os.path.join(source_directory, filename)\n",
    "        cap = cv2.VideoCapture(video_path)\n",
    "        frameRate=cap.get(5)\n",
    "        count=1\n",
    "        nfilename=filename.split('.')[0]\n",
    "        #print(nfilename)\n",
    "        while (cap.isOpened()):\n",
    "            frameid=cap.get(1)# current frame number\n",
    "            ret,frame=cap.read()\n",
    "            #print(ret,count)\n",
    "            if (ret!=True):\n",
    "                break\n",
    "            if (frameid%math.floor(frameRate)==0):\n",
    "                sfilename=save_folder+nfilename+'_'+'keyframe'+str(count)+'.jpg'\n",
    "                cv2.imwrite(sfilename,frame)\n",
    "                count+=1\n",
    "    \n",
    "cap.release()"
   ]
  },
  {
   "cell_type": "code",
   "execution_count": 41,
   "metadata": {},
   "outputs": [
    {
     "name": "stdout",
     "output_type": "stream",
     "text": [
      "16707\n"
     ]
    }
   ],
   "source": [
    "# get the count of total keyframes\n",
    "path,dirs,files = next(os.walk('video_captioning_dataset/YouTubeClips/Training_clips_keyframes'))\n",
    "file_counts = len(files)\n",
    "#type(files)\n",
    "print(file_counts)\n",
    "test_img=files[0]\n"
   ]
  },
  {
   "cell_type": "code",
   "execution_count": 96,
   "metadata": {},
   "outputs": [
    {
     "name": "stdout",
     "output_type": "stream",
     "text": [
      "Found 0 images belonging to 0 classes.\n"
     ]
    }
   ],
   "source": [
    "from keras.preprocessing.image import ImageDataGenerator\n",
    "train_path='video_captioning_dataset/YouTubeClips/Training_clips_keyframes'\n",
    "#Valid_path='video_captioning_dataset/YouTubeClips/Training_clips_keyframes'\n",
    "#Test_path='video_captioning_dataset/YouTubeClips/Training_clips_keyframes'\n",
    "\n",
    "train_batches=ImageDataGenerator().flow_from_directory(train_path,target_size=(224,224),batch_size=10)"
   ]
  },
  {
   "cell_type": "code",
   "execution_count": 98,
   "metadata": {},
   "outputs": [],
   "source": [
    "images=next(train_batches)"
   ]
  },
  {
   "cell_type": "code",
   "execution_count": 104,
   "metadata": {},
   "outputs": [
    {
     "ename": "NameError",
     "evalue": "name 'plots' is not defined",
     "output_type": "error",
     "traceback": [
      "\u001b[1;31m---------------------------------------------------------------------------\u001b[0m",
      "\u001b[1;31mNameError\u001b[0m                                 Traceback (most recent call last)",
      "\u001b[1;32m<ipython-input-104-81d8bea6a87a>\u001b[0m in \u001b[0;36m<module>\u001b[1;34m\u001b[0m\n\u001b[1;32m----> 1\u001b[1;33m \u001b[0mplots\u001b[0m\u001b[1;33m(\u001b[0m\u001b[0mimages\u001b[0m\u001b[1;33m)\u001b[0m\u001b[1;33m\u001b[0m\u001b[1;33m\u001b[0m\u001b[0m\n\u001b[0m",
      "\u001b[1;31mNameError\u001b[0m: name 'plots' is not defined"
     ]
    }
   ],
   "source": [
    "#plots(images)"
   ]
  },
  {
   "cell_type": "code",
   "execution_count": 152,
   "metadata": {},
   "outputs": [],
   "source": [
    "def preprocess_image(path):\n",
    "    #Load the images from the given file path and resize it\n",
    "    print(path)\n",
    "    img=Image.open(path)\n",
    "    new_size=(224,224)\n",
    "    width=224\n",
    "    height=224\n",
    "    img=img.resize(size=new_size)\n",
    "    \n",
    "    # convert the image to numpy array\n",
    "    img=np.array(img).reshape(-1,width,height,1)\n",
    "    # scale the image-pixels so they fall between 0 to 1\n",
    "    img=img/255.0\n",
    "    \n",
    "    # convert the 2-dim array to 3-dim RGB array\n",
    "    img=np.repeat(img[:,:,np.newaxis],3,axis=2)\n",
    "    return img\n"
   ]
  },
  {
   "cell_type": "code",
   "execution_count": 153,
   "metadata": {},
   "outputs": [],
   "source": [
    "# Image preprocessing using Resnet50\n",
    "image_model=ResNet50(weights='imagenet',input_shape=(224,224,3))"
   ]
  },
  {
   "cell_type": "code",
   "execution_count": 164,
   "metadata": {},
   "outputs": [],
   "source": [
    "#image_model.summary()"
   ]
  },
  {
   "cell_type": "code",
   "execution_count": 155,
   "metadata": {},
   "outputs": [],
   "source": [
    "# create a model removing the last layer\n",
    "transfer_layer=model.layers[-2]"
   ]
  },
  {
   "cell_type": "code",
   "execution_count": 156,
   "metadata": {},
   "outputs": [],
   "source": [
    "model_transfer=Model(inputs=model.input,outputs=transfer_layer.output)"
   ]
  },
  {
   "cell_type": "code",
   "execution_count": 157,
   "metadata": {},
   "outputs": [
    {
     "data": {
      "text/plain": [
       "2048"
      ]
     },
     "execution_count": 157,
     "metadata": {},
     "output_type": "execute_result"
    }
   ],
   "source": [
    "transfer_values_size=K.int_shape(transfer_layer.output)[1]\n",
    "transfer_values_size"
   ]
  },
  {
   "cell_type": "code",
   "execution_count": 159,
   "metadata": {},
   "outputs": [],
   "source": [
    "#model_transfer.summary()"
   ]
  },
  {
   "cell_type": "code",
   "execution_count": 160,
   "metadata": {},
   "outputs": [],
   "source": [
    "\n",
    "#img_size=[224,224,3]\n",
    "#source_directory='video_captioning_dataset/YouTubeClips/Training_clips_keyframes'\n",
    "#video_path=os.path.join(source_directory, \"0bSz70pYAP0_5_15_keyframe1.jpg\")\n",
    "#img=PIL.Image.open(video_path).convert(\"L\")\n",
    "#newsize=[224,224]\n",
    "#img=img.resize(newsize)\n",
    "#img_arr=np.array(img)\n",
    "#test_arr=preprocess_image(video_path)\n",
    "#test_arr"
   ]
  },
  {
   "cell_type": "code",
   "execution_count": 161,
   "metadata": {},
   "outputs": [],
   "source": [
    "def process_images(dir,filenames,batch_size=30):\n",
    "    #process all the files in the given directory\n",
    "    # we process images in batches to save memory and improve efficiency on the GPU\n",
    "    \n",
    "    img_size=(224,224)\n",
    "    #Number of images to process\n",
    "    num_images=len(filenames)\n",
    "    # pre-allocate input batch array\n",
    "    # input array\n",
    "    im_shape=(batch_size,)+img_size+(3,)\n",
    "    image_batch=np.zeros(shape=im_shape,dtype=np.float16)\n",
    "    \n",
    "    # output array for transfer values\n",
    "    tv_shape=(num_images,transfer_values_size)\n",
    "    transfer_values=np.zeros(shape=tv_shape,dtype=np.float16)\n",
    "    \n",
    "    # Initialize index into the filename\n",
    "    start_index=0\n",
    "    #process batches of image-files\n",
    "    while start_index<num_images:\n",
    "        #print_progress(count=start_index,max_count=num_images)\n",
    "        \n",
    "        end_index=start_index+batch_size\n",
    "        if end_index>num_images:\n",
    "            end_index=num_images\n",
    "            \n",
    "        current_batch_size=end_index -start_index  \n",
    "        # Load all the images in the batch\n",
    "        for i,filename in enumerate(filenames[start_index:end_index]):\n",
    "            path=os.path.join(dir,filename)# path of the filename\n",
    "            image_p=preprocess_image(path)\n",
    "            image_batch[i]=image_p\n",
    "        transfer_vales_batch=\\\n",
    "            model_transfer.predict(image_batch[0:current_batch_size])\n",
    "        transfer_values[start_index:end_index]=\\\n",
    "            transfer_values_batch[0:current_batch_size]\n",
    "        \n",
    "        start_index=end_index\n",
    "        \n",
    "    return transfer_values        \n",
    "            \n",
    "        \n",
    "    \n",
    "    "
   ]
  },
  {
   "cell_type": "code",
   "execution_count": 162,
   "metadata": {},
   "outputs": [],
   "source": [
    "import csv\n",
    "def process_images_train():\n",
    "    \n",
    "    filename='transfervalues_train.csv'\n",
    "    transfer_values= process_images(dir=\"video_captioning_dataset/YouTubeClips\",filenames=\"filenames_train\")\n",
    "    with open(filename,'w') as csvfile:\n",
    "        csvwriter=csv.writer(transfer_values)\n",
    "     #f.write(\"%s,%s\\n\"%(key,training_captions[key]))\n",
    "#return transfer_values       "
   ]
  },
  {
   "cell_type": "code",
   "execution_count": 163,
   "metadata": {},
   "outputs": [
    {
     "name": "stdout",
     "output_type": "stream",
     "text": [
      "video_captioning_dataset/YouTubeClips\\f\n"
     ]
    },
    {
     "ename": "FileNotFoundError",
     "evalue": "[Errno 2] No such file or directory: 'video_captioning_dataset/YouTubeClips\\\\f'",
     "output_type": "error",
     "traceback": [
      "\u001b[1;31m---------------------------------------------------------------------------\u001b[0m",
      "\u001b[1;31mFileNotFoundError\u001b[0m                         Traceback (most recent call last)",
      "\u001b[1;32m<ipython-input-163-e56c1d2fc80d>\u001b[0m in \u001b[0;36m<module>\u001b[1;34m\u001b[0m\n\u001b[1;32m----> 1\u001b[1;33m \u001b[0mprocess_images_train\u001b[0m\u001b[1;33m(\u001b[0m\u001b[1;33m)\u001b[0m\u001b[1;33m\u001b[0m\u001b[1;33m\u001b[0m\u001b[0m\n\u001b[0m",
      "\u001b[1;32m<ipython-input-162-d1e760fdc3ac>\u001b[0m in \u001b[0;36mprocess_images_train\u001b[1;34m()\u001b[0m\n\u001b[0;32m      3\u001b[0m \u001b[1;33m\u001b[0m\u001b[0m\n\u001b[0;32m      4\u001b[0m     \u001b[0mfilename\u001b[0m\u001b[1;33m=\u001b[0m\u001b[1;34m'transfervalues_train.csv'\u001b[0m\u001b[1;33m\u001b[0m\u001b[1;33m\u001b[0m\u001b[0m\n\u001b[1;32m----> 5\u001b[1;33m     \u001b[0mtransfer_values\u001b[0m\u001b[1;33m=\u001b[0m \u001b[0mprocess_images\u001b[0m\u001b[1;33m(\u001b[0m\u001b[0mdir\u001b[0m\u001b[1;33m=\u001b[0m\u001b[1;34m\"video_captioning_dataset/YouTubeClips\"\u001b[0m\u001b[1;33m,\u001b[0m\u001b[0mfilenames\u001b[0m\u001b[1;33m=\u001b[0m\u001b[1;34m\"filenames_train\"\u001b[0m\u001b[1;33m)\u001b[0m\u001b[1;33m\u001b[0m\u001b[1;33m\u001b[0m\u001b[0m\n\u001b[0m\u001b[0;32m      6\u001b[0m     \u001b[1;32mwith\u001b[0m \u001b[0mopen\u001b[0m\u001b[1;33m(\u001b[0m\u001b[0mfilename\u001b[0m\u001b[1;33m,\u001b[0m\u001b[1;34m'w'\u001b[0m\u001b[1;33m)\u001b[0m \u001b[1;32mas\u001b[0m \u001b[0mcsvfile\u001b[0m\u001b[1;33m:\u001b[0m\u001b[1;33m\u001b[0m\u001b[1;33m\u001b[0m\u001b[0m\n\u001b[0;32m      7\u001b[0m         \u001b[0mcsvwriter\u001b[0m\u001b[1;33m=\u001b[0m\u001b[0mcsv\u001b[0m\u001b[1;33m.\u001b[0m\u001b[0mwriter\u001b[0m\u001b[1;33m(\u001b[0m\u001b[0mtransfer_values\u001b[0m\u001b[1;33m)\u001b[0m\u001b[1;33m\u001b[0m\u001b[1;33m\u001b[0m\u001b[0m\n",
      "\u001b[1;32m<ipython-input-161-0528b8b66ace>\u001b[0m in \u001b[0;36mprocess_images\u001b[1;34m(dir, filenames, batch_size)\u001b[0m\n\u001b[0;32m     29\u001b[0m         \u001b[1;32mfor\u001b[0m \u001b[0mi\u001b[0m\u001b[1;33m,\u001b[0m\u001b[0mfilename\u001b[0m \u001b[1;32min\u001b[0m \u001b[0menumerate\u001b[0m\u001b[1;33m(\u001b[0m\u001b[0mfilenames\u001b[0m\u001b[1;33m[\u001b[0m\u001b[0mstart_index\u001b[0m\u001b[1;33m:\u001b[0m\u001b[0mend_index\u001b[0m\u001b[1;33m]\u001b[0m\u001b[1;33m)\u001b[0m\u001b[1;33m:\u001b[0m\u001b[1;33m\u001b[0m\u001b[1;33m\u001b[0m\u001b[0m\n\u001b[0;32m     30\u001b[0m             \u001b[0mpath\u001b[0m\u001b[1;33m=\u001b[0m\u001b[0mos\u001b[0m\u001b[1;33m.\u001b[0m\u001b[0mpath\u001b[0m\u001b[1;33m.\u001b[0m\u001b[0mjoin\u001b[0m\u001b[1;33m(\u001b[0m\u001b[0mdir\u001b[0m\u001b[1;33m,\u001b[0m\u001b[0mfilename\u001b[0m\u001b[1;33m)\u001b[0m\u001b[1;31m# path of the filename\u001b[0m\u001b[1;33m\u001b[0m\u001b[1;33m\u001b[0m\u001b[0m\n\u001b[1;32m---> 31\u001b[1;33m             \u001b[0mimage_p\u001b[0m\u001b[1;33m=\u001b[0m\u001b[0mpreprocess_image\u001b[0m\u001b[1;33m(\u001b[0m\u001b[0mpath\u001b[0m\u001b[1;33m)\u001b[0m\u001b[1;33m\u001b[0m\u001b[1;33m\u001b[0m\u001b[0m\n\u001b[0m\u001b[0;32m     32\u001b[0m             \u001b[0mimage_batch\u001b[0m\u001b[1;33m[\u001b[0m\u001b[0mi\u001b[0m\u001b[1;33m]\u001b[0m\u001b[1;33m=\u001b[0m\u001b[0mimage_p\u001b[0m\u001b[1;33m\u001b[0m\u001b[1;33m\u001b[0m\u001b[0m\n\u001b[0;32m     33\u001b[0m         \u001b[0mtransfer_vales_batch\u001b[0m\u001b[1;33m=\u001b[0m\u001b[0;31m\\\u001b[0m\u001b[1;33m\u001b[0m\u001b[1;33m\u001b[0m\u001b[0m\n",
      "\u001b[1;32m<ipython-input-152-87d1a54df6a7>\u001b[0m in \u001b[0;36mpreprocess_image\u001b[1;34m(path)\u001b[0m\n\u001b[0;32m      2\u001b[0m     \u001b[1;31m#Load the images from the given file path and resize it\u001b[0m\u001b[1;33m\u001b[0m\u001b[1;33m\u001b[0m\u001b[1;33m\u001b[0m\u001b[0m\n\u001b[0;32m      3\u001b[0m     \u001b[0mprint\u001b[0m\u001b[1;33m(\u001b[0m\u001b[0mpath\u001b[0m\u001b[1;33m)\u001b[0m\u001b[1;33m\u001b[0m\u001b[1;33m\u001b[0m\u001b[0m\n\u001b[1;32m----> 4\u001b[1;33m     \u001b[0mimg\u001b[0m\u001b[1;33m=\u001b[0m\u001b[0mImage\u001b[0m\u001b[1;33m.\u001b[0m\u001b[0mopen\u001b[0m\u001b[1;33m(\u001b[0m\u001b[0mpath\u001b[0m\u001b[1;33m)\u001b[0m\u001b[1;33m\u001b[0m\u001b[1;33m\u001b[0m\u001b[0m\n\u001b[0m\u001b[0;32m      5\u001b[0m     \u001b[0mnew_size\u001b[0m\u001b[1;33m=\u001b[0m\u001b[1;33m(\u001b[0m\u001b[1;36m224\u001b[0m\u001b[1;33m,\u001b[0m\u001b[1;36m224\u001b[0m\u001b[1;33m)\u001b[0m\u001b[1;33m\u001b[0m\u001b[1;33m\u001b[0m\u001b[0m\n\u001b[0;32m      6\u001b[0m     \u001b[0mwidth\u001b[0m\u001b[1;33m=\u001b[0m\u001b[1;36m224\u001b[0m\u001b[1;33m\u001b[0m\u001b[1;33m\u001b[0m\u001b[0m\n",
      "\u001b[1;32m~\\Anaconda3\\lib\\site-packages\\PIL\\Image.py\u001b[0m in \u001b[0;36mopen\u001b[1;34m(fp, mode)\u001b[0m\n\u001b[0;32m   2876\u001b[0m \u001b[1;33m\u001b[0m\u001b[0m\n\u001b[0;32m   2877\u001b[0m     \u001b[1;32mif\u001b[0m \u001b[0mfilename\u001b[0m\u001b[1;33m:\u001b[0m\u001b[1;33m\u001b[0m\u001b[1;33m\u001b[0m\u001b[0m\n\u001b[1;32m-> 2878\u001b[1;33m         \u001b[0mfp\u001b[0m \u001b[1;33m=\u001b[0m \u001b[0mbuiltins\u001b[0m\u001b[1;33m.\u001b[0m\u001b[0mopen\u001b[0m\u001b[1;33m(\u001b[0m\u001b[0mfilename\u001b[0m\u001b[1;33m,\u001b[0m \u001b[1;34m\"rb\"\u001b[0m\u001b[1;33m)\u001b[0m\u001b[1;33m\u001b[0m\u001b[1;33m\u001b[0m\u001b[0m\n\u001b[0m\u001b[0;32m   2879\u001b[0m         \u001b[0mexclusive_fp\u001b[0m \u001b[1;33m=\u001b[0m \u001b[1;32mTrue\u001b[0m\u001b[1;33m\u001b[0m\u001b[1;33m\u001b[0m\u001b[0m\n\u001b[0;32m   2880\u001b[0m \u001b[1;33m\u001b[0m\u001b[0m\n",
      "\u001b[1;31mFileNotFoundError\u001b[0m: [Errno 2] No such file or directory: 'video_captioning_dataset/YouTubeClips\\\\f'"
     ]
    }
   ],
   "source": [
    "process_images_train()"
   ]
  },
  {
   "cell_type": "code",
   "execution_count": null,
   "metadata": {},
   "outputs": [],
   "source": []
  }
 ],
 "metadata": {
  "kernelspec": {
   "display_name": "Python 3",
   "language": "python",
   "name": "python3"
  },
  "language_info": {
   "codemirror_mode": {
    "name": "ipython",
    "version": 3
   },
   "file_extension": ".py",
   "mimetype": "text/x-python",
   "name": "python",
   "nbconvert_exporter": "python",
   "pygments_lexer": "ipython3",
   "version": "3.8.3"
  }
 },
 "nbformat": 4,
 "nbformat_minor": 4
}
