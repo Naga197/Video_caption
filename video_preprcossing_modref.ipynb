{
 "cells": [
  {
   "cell_type": "code",
   "execution_count": 3,
   "metadata": {},
   "outputs": [],
   "source": [
    "import cv2\n",
    "#from google.colab.patches import cv2_imshow\n",
    "import os\n",
    "import numpy as np\n",
    "import pandas as pd\n",
    "import math\n",
    "from PIL import Image\n",
    "import PIL\n",
    "import numpy as np\n",
    "from keras.preprocessing import image\n",
    "from keras.models import Model,load_model\n",
    "from keras.applications.imagenet_utils import preprocess_input,decode_predictions\n",
    "from keras.applications.resnet50 import ResNet50\n",
    "#from keras.applications.vgg16 import VGG16\n",
    "from tensorflow.keras import backend as K\n",
    "from matplotlib import pyplot as plt\n",
    "from elapsedtimer import ElapsedTimer\n",
    "import fire\n",
    "import ffmpeg\n",
    "import subprocess\n",
    "import shutil\n",
    "import glob\n",
    "import tqdm\n",
    "from tqdm import tqdm"
   ]
  },
  {
   "cell_type": "code",
   "execution_count": 4,
   "metadata": {},
   "outputs": [],
   "source": [
    "class VideoCaptioningPreProcessing:\n",
    "   # print(\"test\")\n",
    "    def __init__(self,video_dest,feat_dir,temp_dest,img_dim=224,channels=3,batch_size=1,frames_step=80):\n",
    "    \n",
    "        self.img_dim = img_dim\n",
    "        self.channels = channels\n",
    "        self.video_dest = video_dest\n",
    "        self.feat_dir = feat_dir\n",
    "        self.temp_dest = temp_dest\n",
    "        self.batch_cnn = batch_size\n",
    "        self.frames_step = frames_step\n",
    "    def video_to_frames(self,video):\n",
    "        #with open(os.devnull, \"w\") as ffmpeg_log:\n",
    "        if os.path.exists(self.temp_dest):\n",
    "            print(\" cleanup: \" + self.temp_dest + \"/\")\n",
    "            shutil.rmtree(self.temp_dest)\n",
    "        os.mkdir(self.temp_dest)\n",
    "#                 video_to_frames_cmd = [\"ffmpeg\",'-i', video,'-vf', \"scale=-1:300\", \n",
    "#                                            '-qscale:v', \"2\", \n",
    "#                                            '{0}/%06d.jpg'.format(self.temp_dest)]\n",
    "#                 subprocess.call(video_to_frames_cmd,stdout=ffmpeg_log, stderr=ffmpeg_log)\n",
    "        #video_path=os.path.join(source_folder, filename)\n",
    "        #os.chdir(self.temp_dest) \n",
    "        cap = cv2.VideoCapture(video)\n",
    "        count=0\n",
    "        filename= r\"{}\".format(video)\n",
    "        nfilename = os.path.normpath(filename)\n",
    "        vfilename=nfilename.split('\\\\').pop()\n",
    "        vfilename=vfilename.split('.')[0]\n",
    "        #print(video)\n",
    "        while (cap.isOpened()):\n",
    "            count+=1\n",
    "            current_frame=cap.get(1)# current frame number\n",
    "            #print(current_frame)\n",
    "            ret,frame=cap.read()\n",
    "            #print(ret,count)\n",
    "            sfile=self.temp_dest+'\\\\'+f'{vfilename}_frame{int(current_frame)}.jpg'\n",
    "            #print(sfile)\n",
    "            cv2.imwrite(sfile,frame)\n",
    "            if (ret!=True) or (count==self.frames_step):\n",
    "                 break\n",
    "            #cv2.imwrite(f'{vfilename}_frame{int(current_frame)}.jpg',frame)\n",
    "            \n",
    "        #print(i)\n",
    "\n",
    "        cap.release()  \n",
    "\n",
    "    def model_cnn_load(self):\n",
    "        #model = VGG16(weights = \"imagenet\", include_top=True,input_shape=(self.img_dim,self.img_dim,self.channels))\n",
    "        model = ResNet50(weights = \"imagenet\", include_top=True,input_shape=(self.img_dim,self.img_dim,self.channels))\n",
    "        out = model.layers[-2].output\n",
    "        model_final = Model(inputs=model.input,outputs=out)\n",
    "        return model_final\n",
    "\n",
    "    def load_image(self,path):\n",
    "        print(path)\n",
    "        img = cv2.imread(path)\n",
    "        dimensions=img.shape\n",
    "        height=img.shape[0]\n",
    "        width=img.shape[1]\n",
    "        img = cv2.resize(img,(self.img_dim,self.img_dim))\n",
    "        return img \n",
    "\n",
    "    def extract_feats_pretrained_cnn(self):# Extract the features from the pre-trained CNN \n",
    "        #self.img_dim = img_dim\n",
    "        #self.channels = channels\n",
    "        #self.video_dest = video_dest\n",
    "        #self.feat_dir = feat_dir\n",
    "        #self.temp_dest = temp_dest\n",
    "        #self.batch_cnn = batch_size\n",
    "        #self.frames_step = frames_step\n",
    "\n",
    "        model = self.model_cnn_load()\n",
    "        print('Model loaded')\n",
    "        #print(os. getcwd())\n",
    "        if not os.path.exists(self.feat_dir):\n",
    "            os.mkdir(self.feat_dir)\n",
    "            #print(\"save video feats to %s\" % (self.dir_feat))\n",
    "        video_list = glob.glob(os.path.join(self.video_dest,'*.avi'))\n",
    "        #print(video_list) \n",
    "\n",
    "        for video in video_list:\n",
    "\n",
    "           # video_id = video.split(\".\")[0]\n",
    "            \n",
    "            filename= r\"{}\".format(video)\n",
    "            nfilename = os.path.normpath(filename)\n",
    "            vfilename=nfilename.split('\\\\').pop()\n",
    "            video_id=vfilename.split('.')[0]\n",
    "            #self.dest = 'cnn_feat' + '_' + video_id\n",
    "            print(video_id)\n",
    "            self.video_to_frames(video)\n",
    "\n",
    "            image_list = sorted(glob.glob(os.path.join(self.temp_dest, '*.jpg')))\n",
    "            samples = np.round(np.linspace(0, len(image_list) - 1,self.frames_step))\n",
    "            image_list = [image_list[int(sample)] for sample in samples]\n",
    "            images = np.zeros((len(image_list),self.img_dim,self.img_dim,self.channels))\n",
    "            for i in tqdm(range(len(image_list))):\n",
    "                #print(i)\n",
    "                img = self.load_image(image_list[i])\n",
    "                images[i] = img\n",
    "                images = np.array(images)\n",
    "                fc_feats = model.predict(images,batch_size=self.batch_cnn)\n",
    "                img_feats = np.array(fc_feats)\n",
    "                #print(img_feats[0])\n",
    "                outfile = os.path.join(self.feat_dir, video_id + '.npy')\n",
    "                np.save(outfile, img_feats)\n",
    "                # cleanup\n",
    "                #shutil.rmtree(self.temp_dest)\n",
    "                \n",
    "    def process_main(self):\n",
    "        self.extract_feats_pretrained_cnn()"
   ]
  },
  {
   "cell_type": "code",
   "execution_count": 5,
   "metadata": {},
   "outputs": [
    {
     "name": "stdout",
     "output_type": "stream",
     "text": [
      "Model loaded\n",
      "0xx13BuvVmo_25_36\n",
      " cleanup: video_captioning_dataset\\YouTubeClips\\dir_temp/\n"
     ]
    },
    {
     "name": "stderr",
     "output_type": "stream",
     "text": [
      "\r",
      "  0%|                                                                                           | 0/80 [00:00<?, ?it/s]"
     ]
    },
    {
     "name": "stdout",
     "output_type": "stream",
     "text": [
      "video_captioning_dataset\\YouTubeClips\\dir_temp\\0xx13BuvVmo_25_36_frame0.jpg\n"
     ]
    },
    {
     "name": "stderr",
     "output_type": "stream",
     "text": [
      "\r",
      "  1%|█                                                                                  | 1/80 [00:18<24:49, 18.86s/it]"
     ]
    },
    {
     "name": "stdout",
     "output_type": "stream",
     "text": [
      "video_captioning_dataset\\YouTubeClips\\dir_temp\\0xx13BuvVmo_25_36_frame1.jpg\n"
     ]
    },
    {
     "name": "stderr",
     "output_type": "stream",
     "text": [
      "\r",
      "  2%|██                                                                                 | 2/80 [00:36<24:06, 18.54s/it]"
     ]
    },
    {
     "name": "stdout",
     "output_type": "stream",
     "text": [
      "video_captioning_dataset\\YouTubeClips\\dir_temp\\0xx13BuvVmo_25_36_frame10.jpg\n"
     ]
    },
    {
     "name": "stderr",
     "output_type": "stream",
     "text": [
      "\r",
      "  4%|███                                                                                | 3/80 [00:53<23:12, 18.08s/it]"
     ]
    },
    {
     "name": "stdout",
     "output_type": "stream",
     "text": [
      "video_captioning_dataset\\YouTubeClips\\dir_temp\\0xx13BuvVmo_25_36_frame11.jpg\n"
     ]
    },
    {
     "name": "stderr",
     "output_type": "stream",
     "text": [
      "\r",
      "  5%|████▏                                                                              | 4/80 [01:09<22:08, 17.49s/it]"
     ]
    },
    {
     "name": "stdout",
     "output_type": "stream",
     "text": [
      "video_captioning_dataset\\YouTubeClips\\dir_temp\\0xx13BuvVmo_25_36_frame12.jpg\n"
     ]
    },
    {
     "name": "stderr",
     "output_type": "stream",
     "text": [
      "\r",
      "  6%|█████▏                                                                             | 5/80 [01:26<21:29, 17.19s/it]"
     ]
    },
    {
     "name": "stdout",
     "output_type": "stream",
     "text": [
      "video_captioning_dataset\\YouTubeClips\\dir_temp\\0xx13BuvVmo_25_36_frame13.jpg\n"
     ]
    },
    {
     "name": "stderr",
     "output_type": "stream",
     "text": [
      "\r",
      "  8%|██████▏                                                                            | 6/80 [01:43<21:05, 17.10s/it]"
     ]
    },
    {
     "name": "stdout",
     "output_type": "stream",
     "text": [
      "video_captioning_dataset\\YouTubeClips\\dir_temp\\0xx13BuvVmo_25_36_frame14.jpg\n"
     ]
    },
    {
     "name": "stderr",
     "output_type": "stream",
     "text": [
      "\r",
      "  9%|███████▎                                                                           | 7/80 [01:59<20:25, 16.78s/it]"
     ]
    },
    {
     "name": "stdout",
     "output_type": "stream",
     "text": [
      "video_captioning_dataset\\YouTubeClips\\dir_temp\\0xx13BuvVmo_25_36_frame15.jpg\n"
     ]
    },
    {
     "name": "stderr",
     "output_type": "stream",
     "text": [
      "\r",
      " 10%|████████▎                                                                          | 8/80 [02:16<20:12, 16.84s/it]"
     ]
    },
    {
     "name": "stdout",
     "output_type": "stream",
     "text": [
      "video_captioning_dataset\\YouTubeClips\\dir_temp\\0xx13BuvVmo_25_36_frame16.jpg\n"
     ]
    },
    {
     "name": "stderr",
     "output_type": "stream",
     "text": [
      "\r",
      " 11%|█████████▎                                                                         | 9/80 [02:33<20:03, 16.95s/it]"
     ]
    },
    {
     "name": "stdout",
     "output_type": "stream",
     "text": [
      "video_captioning_dataset\\YouTubeClips\\dir_temp\\0xx13BuvVmo_25_36_frame17.jpg\n"
     ]
    },
    {
     "name": "stderr",
     "output_type": "stream",
     "text": [
      "\r",
      " 12%|██████████▎                                                                       | 10/80 [02:49<19:39, 16.85s/it]"
     ]
    },
    {
     "name": "stdout",
     "output_type": "stream",
     "text": [
      "video_captioning_dataset\\YouTubeClips\\dir_temp\\0xx13BuvVmo_25_36_frame18.jpg\n"
     ]
    },
    {
     "name": "stderr",
     "output_type": "stream",
     "text": [
      "\r",
      " 14%|███████████▎                                                                      | 11/80 [03:06<19:07, 16.63s/it]"
     ]
    },
    {
     "name": "stdout",
     "output_type": "stream",
     "text": [
      "video_captioning_dataset\\YouTubeClips\\dir_temp\\0xx13BuvVmo_25_36_frame19.jpg\n"
     ]
    },
    {
     "name": "stderr",
     "output_type": "stream",
     "text": [
      "\r",
      " 15%|████████████▎                                                                     | 12/80 [03:22<18:47, 16.58s/it]"
     ]
    },
    {
     "name": "stdout",
     "output_type": "stream",
     "text": [
      "video_captioning_dataset\\YouTubeClips\\dir_temp\\0xx13BuvVmo_25_36_frame2.jpg\n"
     ]
    },
    {
     "name": "stderr",
     "output_type": "stream",
     "text": [
      "\r",
      " 16%|█████████████▎                                                                    | 13/80 [03:39<18:39, 16.71s/it]"
     ]
    },
    {
     "name": "stdout",
     "output_type": "stream",
     "text": [
      "video_captioning_dataset\\YouTubeClips\\dir_temp\\0xx13BuvVmo_25_36_frame20.jpg\n"
     ]
    },
    {
     "name": "stderr",
     "output_type": "stream",
     "text": [
      "\r",
      " 18%|██████████████▎                                                                   | 14/80 [03:56<18:22, 16.70s/it]"
     ]
    },
    {
     "name": "stdout",
     "output_type": "stream",
     "text": [
      "video_captioning_dataset\\YouTubeClips\\dir_temp\\0xx13BuvVmo_25_36_frame21.jpg\n"
     ]
    },
    {
     "name": "stderr",
     "output_type": "stream",
     "text": [
      "\r",
      " 19%|███████████████▍                                                                  | 15/80 [04:12<17:54, 16.53s/it]"
     ]
    },
    {
     "name": "stdout",
     "output_type": "stream",
     "text": [
      "video_captioning_dataset\\YouTubeClips\\dir_temp\\0xx13BuvVmo_25_36_frame22.jpg\n"
     ]
    },
    {
     "name": "stderr",
     "output_type": "stream",
     "text": [
      "\r",
      " 20%|████████████████▍                                                                 | 16/80 [04:28<17:35, 16.49s/it]"
     ]
    },
    {
     "name": "stdout",
     "output_type": "stream",
     "text": [
      "video_captioning_dataset\\YouTubeClips\\dir_temp\\0xx13BuvVmo_25_36_frame23.jpg\n"
     ]
    },
    {
     "name": "stderr",
     "output_type": "stream",
     "text": [
      "\r",
      " 21%|█████████████████▍                                                                | 17/80 [04:45<17:26, 16.61s/it]"
     ]
    },
    {
     "name": "stdout",
     "output_type": "stream",
     "text": [
      "video_captioning_dataset\\YouTubeClips\\dir_temp\\0xx13BuvVmo_25_36_frame24.jpg\n"
     ]
    },
    {
     "name": "stderr",
     "output_type": "stream",
     "text": [
      "\r",
      " 22%|██████████████████▍                                                               | 18/80 [05:02<17:10, 16.63s/it]"
     ]
    },
    {
     "name": "stdout",
     "output_type": "stream",
     "text": [
      "video_captioning_dataset\\YouTubeClips\\dir_temp\\0xx13BuvVmo_25_36_frame25.jpg\n"
     ]
    },
    {
     "name": "stderr",
     "output_type": "stream",
     "text": [
      "\r",
      " 24%|███████████████████▍                                                              | 19/80 [05:18<16:42, 16.43s/it]"
     ]
    },
    {
     "name": "stdout",
     "output_type": "stream",
     "text": [
      "video_captioning_dataset\\YouTubeClips\\dir_temp\\0xx13BuvVmo_25_36_frame26.jpg\n"
     ]
    },
    {
     "name": "stderr",
     "output_type": "stream",
     "text": [
      "\r",
      " 25%|████████████████████▌                                                             | 20/80 [05:35<16:36, 16.60s/it]"
     ]
    },
    {
     "name": "stdout",
     "output_type": "stream",
     "text": [
      "video_captioning_dataset\\YouTubeClips\\dir_temp\\0xx13BuvVmo_25_36_frame27.jpg\n"
     ]
    },
    {
     "name": "stderr",
     "output_type": "stream",
     "text": [
      "\r",
      " 26%|█████████████████████▌                                                            | 21/80 [05:52<16:20, 16.62s/it]"
     ]
    },
    {
     "name": "stdout",
     "output_type": "stream",
     "text": [
      "video_captioning_dataset\\YouTubeClips\\dir_temp\\0xx13BuvVmo_25_36_frame28.jpg\n"
     ]
    },
    {
     "name": "stderr",
     "output_type": "stream",
     "text": [
      "\r",
      " 28%|██████████████████████▌                                                           | 22/80 [06:08<15:54, 16.45s/it]"
     ]
    },
    {
     "name": "stdout",
     "output_type": "stream",
     "text": [
      "video_captioning_dataset\\YouTubeClips\\dir_temp\\0xx13BuvVmo_25_36_frame29.jpg\n"
     ]
    },
    {
     "name": "stderr",
     "output_type": "stream",
     "text": [
      "\r",
      " 29%|███████████████████████▌                                                          | 23/80 [06:24<15:44, 16.56s/it]"
     ]
    },
    {
     "name": "stdout",
     "output_type": "stream",
     "text": [
      "video_captioning_dataset\\YouTubeClips\\dir_temp\\0xx13BuvVmo_25_36_frame3.jpg\n"
     ]
    },
    {
     "name": "stderr",
     "output_type": "stream",
     "text": [
      "\r",
      " 30%|████████████████████████▌                                                         | 24/80 [06:41<15:36, 16.72s/it]"
     ]
    },
    {
     "name": "stdout",
     "output_type": "stream",
     "text": [
      "video_captioning_dataset\\YouTubeClips\\dir_temp\\0xx13BuvVmo_25_36_frame30.jpg\n"
     ]
    },
    {
     "name": "stderr",
     "output_type": "stream",
     "text": [
      "\r",
      " 31%|█████████████████████████▋                                                        | 25/80 [06:57<15:03, 16.43s/it]"
     ]
    },
    {
     "name": "stdout",
     "output_type": "stream",
     "text": [
      "video_captioning_dataset\\YouTubeClips\\dir_temp\\0xx13BuvVmo_25_36_frame31.jpg\n"
     ]
    },
    {
     "name": "stderr",
     "output_type": "stream",
     "text": [
      "\r",
      " 32%|██████████████████████████▋                                                       | 26/80 [07:13<14:43, 16.36s/it]"
     ]
    },
    {
     "name": "stdout",
     "output_type": "stream",
     "text": [
      "video_captioning_dataset\\YouTubeClips\\dir_temp\\0xx13BuvVmo_25_36_frame32.jpg\n"
     ]
    },
    {
     "name": "stderr",
     "output_type": "stream",
     "text": [
      "\r",
      " 34%|███████████████████████████▋                                                      | 27/80 [07:30<14:27, 16.36s/it]"
     ]
    },
    {
     "name": "stdout",
     "output_type": "stream",
     "text": [
      "video_captioning_dataset\\YouTubeClips\\dir_temp\\0xx13BuvVmo_25_36_frame33.jpg\n"
     ]
    },
    {
     "name": "stderr",
     "output_type": "stream",
     "text": [
      "\r",
      " 35%|████████████████████████████▋                                                     | 28/80 [07:47<14:19, 16.53s/it]"
     ]
    },
    {
     "name": "stdout",
     "output_type": "stream",
     "text": [
      "video_captioning_dataset\\YouTubeClips\\dir_temp\\0xx13BuvVmo_25_36_frame34.jpg\n"
     ]
    },
    {
     "name": "stderr",
     "output_type": "stream",
     "text": [
      "\r",
      " 36%|█████████████████████████████▋                                                    | 29/80 [08:04<14:10, 16.68s/it]"
     ]
    },
    {
     "name": "stdout",
     "output_type": "stream",
     "text": [
      "video_captioning_dataset\\YouTubeClips\\dir_temp\\0xx13BuvVmo_25_36_frame35.jpg\n"
     ]
    },
    {
     "name": "stderr",
     "output_type": "stream",
     "text": [
      "\r",
      " 38%|██████████████████████████████▊                                                   | 30/80 [08:20<13:45, 16.52s/it]"
     ]
    },
    {
     "name": "stdout",
     "output_type": "stream",
     "text": [
      "video_captioning_dataset\\YouTubeClips\\dir_temp\\0xx13BuvVmo_25_36_frame36.jpg\n"
     ]
    },
    {
     "name": "stderr",
     "output_type": "stream",
     "text": [
      "\r",
      " 39%|███████████████████████████████▊                                                  | 31/80 [08:36<13:30, 16.53s/it]"
     ]
    },
    {
     "name": "stdout",
     "output_type": "stream",
     "text": [
      "video_captioning_dataset\\YouTubeClips\\dir_temp\\0xx13BuvVmo_25_36_frame37.jpg\n"
     ]
    },
    {
     "name": "stderr",
     "output_type": "stream",
     "text": [
      "\r",
      " 40%|████████████████████████████████▊                                                 | 32/80 [08:53<13:16, 16.59s/it]"
     ]
    },
    {
     "name": "stdout",
     "output_type": "stream",
     "text": [
      "video_captioning_dataset\\YouTubeClips\\dir_temp\\0xx13BuvVmo_25_36_frame38.jpg\n"
     ]
    },
    {
     "name": "stderr",
     "output_type": "stream",
     "text": [
      "\r",
      " 41%|█████████████████████████████████▊                                                | 33/80 [09:10<13:06, 16.74s/it]"
     ]
    },
    {
     "name": "stdout",
     "output_type": "stream",
     "text": [
      "video_captioning_dataset\\YouTubeClips\\dir_temp\\0xx13BuvVmo_25_36_frame39.jpg\n"
     ]
    },
    {
     "name": "stderr",
     "output_type": "stream",
     "text": [
      "\r",
      " 42%|██████████████████████████████████▊                                               | 34/80 [09:27<12:45, 16.64s/it]"
     ]
    },
    {
     "name": "stdout",
     "output_type": "stream",
     "text": [
      "video_captioning_dataset\\YouTubeClips\\dir_temp\\0xx13BuvVmo_25_36_frame4.jpg\n"
     ]
    },
    {
     "name": "stderr",
     "output_type": "stream",
     "text": [
      "\r",
      " 44%|███████████████████████████████████▉                                              | 35/80 [09:43<12:28, 16.63s/it]"
     ]
    },
    {
     "name": "stdout",
     "output_type": "stream",
     "text": [
      "video_captioning_dataset\\YouTubeClips\\dir_temp\\0xx13BuvVmo_25_36_frame40.jpg\n"
     ]
    },
    {
     "name": "stderr",
     "output_type": "stream",
     "text": [
      "\r",
      " 45%|████████████████████████████████████▉                                             | 36/80 [10:00<12:17, 16.77s/it]"
     ]
    },
    {
     "name": "stdout",
     "output_type": "stream",
     "text": [
      "video_captioning_dataset\\YouTubeClips\\dir_temp\\0xx13BuvVmo_25_36_frame41.jpg\n"
     ]
    },
    {
     "name": "stderr",
     "output_type": "stream",
     "text": [
      "\r",
      " 46%|█████████████████████████████████████▉                                            | 37/80 [10:17<12:05, 16.87s/it]"
     ]
    },
    {
     "name": "stdout",
     "output_type": "stream",
     "text": [
      "video_captioning_dataset\\YouTubeClips\\dir_temp\\0xx13BuvVmo_25_36_frame42.jpg\n"
     ]
    },
    {
     "name": "stderr",
     "output_type": "stream",
     "text": [
      "\r",
      " 48%|██████████████████████████████████████▉                                           | 38/80 [10:34<11:40, 16.69s/it]"
     ]
    },
    {
     "name": "stdout",
     "output_type": "stream",
     "text": [
      "video_captioning_dataset\\YouTubeClips\\dir_temp\\0xx13BuvVmo_25_36_frame43.jpg\n"
     ]
    },
    {
     "name": "stderr",
     "output_type": "stream",
     "text": [
      "\r",
      " 49%|███████████████████████████████████████▉                                          | 39/80 [10:50<11:18, 16.54s/it]"
     ]
    },
    {
     "name": "stdout",
     "output_type": "stream",
     "text": [
      "video_captioning_dataset\\YouTubeClips\\dir_temp\\0xx13BuvVmo_25_36_frame44.jpg\n"
     ]
    },
    {
     "name": "stderr",
     "output_type": "stream",
     "text": [
      "\r",
      " 50%|█████████████████████████████████████████                                         | 40/80 [11:07<11:07, 16.69s/it]"
     ]
    },
    {
     "name": "stdout",
     "output_type": "stream",
     "text": [
      "video_captioning_dataset\\YouTubeClips\\dir_temp\\0xx13BuvVmo_25_36_frame45.jpg\n"
     ]
    },
    {
     "name": "stderr",
     "output_type": "stream",
     "text": [
      "\r",
      " 51%|██████████████████████████████████████████                                        | 41/80 [11:24<10:53, 16.76s/it]"
     ]
    },
    {
     "name": "stdout",
     "output_type": "stream",
     "text": [
      "video_captioning_dataset\\YouTubeClips\\dir_temp\\0xx13BuvVmo_25_36_frame46.jpg\n"
     ]
    },
    {
     "name": "stderr",
     "output_type": "stream",
     "text": [
      "\r",
      " 52%|███████████████████████████████████████████                                       | 42/80 [11:40<10:31, 16.63s/it]"
     ]
    },
    {
     "name": "stdout",
     "output_type": "stream",
     "text": [
      "video_captioning_dataset\\YouTubeClips\\dir_temp\\0xx13BuvVmo_25_36_frame47.jpg\n"
     ]
    },
    {
     "name": "stderr",
     "output_type": "stream",
     "text": [
      "\r",
      " 54%|████████████████████████████████████████████                                      | 43/80 [11:57<10:14, 16.61s/it]"
     ]
    },
    {
     "name": "stdout",
     "output_type": "stream",
     "text": [
      "video_captioning_dataset\\YouTubeClips\\dir_temp\\0xx13BuvVmo_25_36_frame48.jpg\n"
     ]
    },
    {
     "name": "stderr",
     "output_type": "stream",
     "text": [
      "\r",
      " 55%|█████████████████████████████████████████████                                     | 44/80 [12:14<10:06, 16.85s/it]"
     ]
    },
    {
     "name": "stdout",
     "output_type": "stream",
     "text": [
      "video_captioning_dataset\\YouTubeClips\\dir_temp\\0xx13BuvVmo_25_36_frame49.jpg\n"
     ]
    },
    {
     "name": "stderr",
     "output_type": "stream",
     "text": [
      "\r",
      " 56%|██████████████████████████████████████████████▏                                   | 45/80 [12:31<09:51, 16.91s/it]"
     ]
    },
    {
     "name": "stdout",
     "output_type": "stream",
     "text": [
      "video_captioning_dataset\\YouTubeClips\\dir_temp\\0xx13BuvVmo_25_36_frame5.jpg\n"
     ]
    },
    {
     "name": "stderr",
     "output_type": "stream",
     "text": [
      "\r",
      " 57%|███████████████████████████████████████████████▏                                  | 46/80 [12:47<09:27, 16.69s/it]"
     ]
    },
    {
     "name": "stdout",
     "output_type": "stream",
     "text": [
      "video_captioning_dataset\\YouTubeClips\\dir_temp\\0xx13BuvVmo_25_36_frame50.jpg\n"
     ]
    },
    {
     "name": "stderr",
     "output_type": "stream",
     "text": [
      "\r",
      " 59%|████████████████████████████████████████████████▏                                 | 47/80 [13:04<09:06, 16.55s/it]"
     ]
    },
    {
     "name": "stdout",
     "output_type": "stream",
     "text": [
      "video_captioning_dataset\\YouTubeClips\\dir_temp\\0xx13BuvVmo_25_36_frame51.jpg\n"
     ]
    },
    {
     "name": "stderr",
     "output_type": "stream",
     "text": [
      "\r",
      " 60%|█████████████████████████████████████████████████▏                                | 48/80 [13:21<08:53, 16.66s/it]"
     ]
    },
    {
     "name": "stdout",
     "output_type": "stream",
     "text": [
      "video_captioning_dataset\\YouTubeClips\\dir_temp\\0xx13BuvVmo_25_36_frame52.jpg\n"
     ]
    },
    {
     "name": "stderr",
     "output_type": "stream",
     "text": [
      "\r",
      " 61%|██████████████████████████████████████████████████▏                               | 49/80 [13:38<08:42, 16.84s/it]"
     ]
    },
    {
     "name": "stdout",
     "output_type": "stream",
     "text": [
      "video_captioning_dataset\\YouTubeClips\\dir_temp\\0xx13BuvVmo_25_36_frame53.jpg\n"
     ]
    },
    {
     "name": "stderr",
     "output_type": "stream",
     "text": [
      "\r",
      " 62%|███████████████████████████████████████████████████▎                              | 50/80 [13:54<08:18, 16.62s/it]"
     ]
    },
    {
     "name": "stdout",
     "output_type": "stream",
     "text": [
      "video_captioning_dataset\\YouTubeClips\\dir_temp\\0xx13BuvVmo_25_36_frame54.jpg\n"
     ]
    },
    {
     "name": "stderr",
     "output_type": "stream",
     "text": [
      "\r",
      " 64%|████████████████████████████████████████████████████▎                             | 51/80 [14:10<08:00, 16.57s/it]"
     ]
    },
    {
     "name": "stdout",
     "output_type": "stream",
     "text": [
      "video_captioning_dataset\\YouTubeClips\\dir_temp\\0xx13BuvVmo_25_36_frame55.jpg\n"
     ]
    },
    {
     "name": "stderr",
     "output_type": "stream",
     "text": [
      "\r",
      " 65%|█████████████████████████████████████████████████████▎                            | 52/80 [14:29<08:03, 17.27s/it]"
     ]
    },
    {
     "name": "stdout",
     "output_type": "stream",
     "text": [
      "video_captioning_dataset\\YouTubeClips\\dir_temp\\0xx13BuvVmo_25_36_frame56.jpg\n"
     ]
    },
    {
     "name": "stderr",
     "output_type": "stream",
     "text": [
      "\r",
      " 66%|██████████████████████████████████████████████████████▎                           | 53/80 [14:46<07:43, 17.15s/it]"
     ]
    },
    {
     "name": "stdout",
     "output_type": "stream",
     "text": [
      "video_captioning_dataset\\YouTubeClips\\dir_temp\\0xx13BuvVmo_25_36_frame57.jpg\n"
     ]
    },
    {
     "name": "stderr",
     "output_type": "stream",
     "text": [
      "\r",
      " 68%|███████████████████████████████████████████████████████▎                          | 54/80 [15:02<07:16, 16.77s/it]"
     ]
    },
    {
     "name": "stdout",
     "output_type": "stream",
     "text": [
      "video_captioning_dataset\\YouTubeClips\\dir_temp\\0xx13BuvVmo_25_36_frame58.jpg\n"
     ]
    },
    {
     "name": "stderr",
     "output_type": "stream",
     "text": [
      "\r",
      " 69%|████████████████████████████████████████████████████████▍                         | 55/80 [15:18<06:53, 16.54s/it]"
     ]
    },
    {
     "name": "stdout",
     "output_type": "stream",
     "text": [
      "video_captioning_dataset\\YouTubeClips\\dir_temp\\0xx13BuvVmo_25_36_frame59.jpg\n"
     ]
    },
    {
     "name": "stderr",
     "output_type": "stream",
     "text": [
      "\r",
      " 70%|█████████████████████████████████████████████████████████▍                        | 56/80 [15:35<06:39, 16.63s/it]"
     ]
    },
    {
     "name": "stdout",
     "output_type": "stream",
     "text": [
      "video_captioning_dataset\\YouTubeClips\\dir_temp\\0xx13BuvVmo_25_36_frame6.jpg\n"
     ]
    },
    {
     "name": "stderr",
     "output_type": "stream",
     "text": [
      "\r",
      " 71%|██████████████████████████████████████████████████████████▍                       | 57/80 [15:51<06:22, 16.62s/it]"
     ]
    },
    {
     "name": "stdout",
     "output_type": "stream",
     "text": [
      "video_captioning_dataset\\YouTubeClips\\dir_temp\\0xx13BuvVmo_25_36_frame60.jpg\n"
     ]
    },
    {
     "name": "stderr",
     "output_type": "stream",
     "text": [
      "\r",
      " 72%|███████████████████████████████████████████████████████████▍                      | 58/80 [16:08<06:01, 16.44s/it]"
     ]
    },
    {
     "name": "stdout",
     "output_type": "stream",
     "text": [
      "video_captioning_dataset\\YouTubeClips\\dir_temp\\0xx13BuvVmo_25_36_frame61.jpg\n"
     ]
    },
    {
     "name": "stderr",
     "output_type": "stream",
     "text": [
      "\r",
      " 74%|████████████████████████████████████████████████████████████▍                     | 59/80 [16:24<05:42, 16.32s/it]"
     ]
    },
    {
     "name": "stdout",
     "output_type": "stream",
     "text": [
      "video_captioning_dataset\\YouTubeClips\\dir_temp\\0xx13BuvVmo_25_36_frame62.jpg\n"
     ]
    },
    {
     "name": "stderr",
     "output_type": "stream",
     "text": [
      "\r",
      " 75%|█████████████████████████████████████████████████████████████▌                    | 60/80 [16:41<05:30, 16.53s/it]"
     ]
    },
    {
     "name": "stdout",
     "output_type": "stream",
     "text": [
      "video_captioning_dataset\\YouTubeClips\\dir_temp\\0xx13BuvVmo_25_36_frame63.jpg\n"
     ]
    },
    {
     "name": "stderr",
     "output_type": "stream",
     "text": [
      "\r",
      " 76%|██████████████████████████████████████████████████████████████▌                   | 61/80 [16:57<05:15, 16.59s/it]"
     ]
    },
    {
     "name": "stdout",
     "output_type": "stream",
     "text": [
      "video_captioning_dataset\\YouTubeClips\\dir_temp\\0xx13BuvVmo_25_36_frame64.jpg\n"
     ]
    },
    {
     "name": "stderr",
     "output_type": "stream",
     "text": [
      "\r",
      " 78%|███████████████████████████████████████████████████████████████▌                  | 62/80 [17:13<04:55, 16.39s/it]"
     ]
    },
    {
     "name": "stdout",
     "output_type": "stream",
     "text": [
      "video_captioning_dataset\\YouTubeClips\\dir_temp\\0xx13BuvVmo_25_36_frame65.jpg\n"
     ]
    },
    {
     "name": "stderr",
     "output_type": "stream",
     "text": [
      "\r",
      " 79%|████████████████████████████████████████████████████████████████▌                 | 63/80 [17:30<04:39, 16.46s/it]"
     ]
    },
    {
     "name": "stdout",
     "output_type": "stream",
     "text": [
      "video_captioning_dataset\\YouTubeClips\\dir_temp\\0xx13BuvVmo_25_36_frame66.jpg\n"
     ]
    },
    {
     "name": "stderr",
     "output_type": "stream",
     "text": [
      "\r",
      " 80%|█████████████████████████████████████████████████████████████████▌                | 64/80 [17:47<04:24, 16.56s/it]"
     ]
    },
    {
     "name": "stdout",
     "output_type": "stream",
     "text": [
      "video_captioning_dataset\\YouTubeClips\\dir_temp\\0xx13BuvVmo_25_36_frame67.jpg\n"
     ]
    },
    {
     "name": "stderr",
     "output_type": "stream",
     "text": [
      "\r",
      " 81%|██████████████████████████████████████████████████████████████████▋               | 65/80 [18:04<04:10, 16.73s/it]"
     ]
    },
    {
     "name": "stdout",
     "output_type": "stream",
     "text": [
      "video_captioning_dataset\\YouTubeClips\\dir_temp\\0xx13BuvVmo_25_36_frame68.jpg\n"
     ]
    },
    {
     "name": "stderr",
     "output_type": "stream",
     "text": [
      "\r",
      " 82%|███████████████████████████████████████████████████████████████████▋              | 66/80 [18:20<03:51, 16.53s/it]"
     ]
    },
    {
     "name": "stdout",
     "output_type": "stream",
     "text": [
      "video_captioning_dataset\\YouTubeClips\\dir_temp\\0xx13BuvVmo_25_36_frame69.jpg\n"
     ]
    },
    {
     "name": "stderr",
     "output_type": "stream",
     "text": [
      "\r",
      " 84%|████████████████████████████████████████████████████████████████████▋             | 67/80 [18:37<03:37, 16.73s/it]"
     ]
    },
    {
     "name": "stdout",
     "output_type": "stream",
     "text": [
      "video_captioning_dataset\\YouTubeClips\\dir_temp\\0xx13BuvVmo_25_36_frame7.jpg\n"
     ]
    },
    {
     "name": "stderr",
     "output_type": "stream",
     "text": [
      "\r",
      " 85%|█████████████████████████████████████████████████████████████████████▋            | 68/80 [18:54<03:20, 16.68s/it]"
     ]
    },
    {
     "name": "stdout",
     "output_type": "stream",
     "text": [
      "video_captioning_dataset\\YouTubeClips\\dir_temp\\0xx13BuvVmo_25_36_frame70.jpg\n"
     ]
    },
    {
     "name": "stderr",
     "output_type": "stream",
     "text": [
      "\r",
      " 86%|██████████████████████████████████████████████████████████████████████▋           | 69/80 [19:10<03:02, 16.63s/it]"
     ]
    },
    {
     "name": "stdout",
     "output_type": "stream",
     "text": [
      "video_captioning_dataset\\YouTubeClips\\dir_temp\\0xx13BuvVmo_25_36_frame71.jpg\n"
     ]
    },
    {
     "name": "stderr",
     "output_type": "stream",
     "text": [
      "\r",
      " 88%|███████████████████████████████████████████████████████████████████████▊          | 70/80 [19:27<02:46, 16.68s/it]"
     ]
    },
    {
     "name": "stdout",
     "output_type": "stream",
     "text": [
      "video_captioning_dataset\\YouTubeClips\\dir_temp\\0xx13BuvVmo_25_36_frame72.jpg\n"
     ]
    },
    {
     "name": "stderr",
     "output_type": "stream",
     "text": [
      "\r",
      " 89%|████████████████████████████████████████████████████████████████████████▊         | 71/80 [19:44<02:30, 16.76s/it]"
     ]
    },
    {
     "name": "stdout",
     "output_type": "stream",
     "text": [
      "video_captioning_dataset\\YouTubeClips\\dir_temp\\0xx13BuvVmo_25_36_frame73.jpg\n"
     ]
    },
    {
     "name": "stderr",
     "output_type": "stream",
     "text": [
      "\r",
      " 90%|█████████████████████████████████████████████████████████████████████████▊        | 72/80 [20:00<02:13, 16.71s/it]"
     ]
    },
    {
     "name": "stdout",
     "output_type": "stream",
     "text": [
      "video_captioning_dataset\\YouTubeClips\\dir_temp\\0xx13BuvVmo_25_36_frame74.jpg\n"
     ]
    },
    {
     "name": "stderr",
     "output_type": "stream",
     "text": [
      "\r",
      " 91%|██████████████████████████████████████████████████████████████████████████▊       | 73/80 [20:16<01:55, 16.49s/it]"
     ]
    },
    {
     "name": "stdout",
     "output_type": "stream",
     "text": [
      "video_captioning_dataset\\YouTubeClips\\dir_temp\\0xx13BuvVmo_25_36_frame75.jpg\n"
     ]
    },
    {
     "name": "stderr",
     "output_type": "stream",
     "text": [
      "\r",
      " 92%|███████████████████████████████████████████████████████████████████████████▊      | 74/80 [20:33<01:38, 16.37s/it]"
     ]
    },
    {
     "name": "stdout",
     "output_type": "stream",
     "text": [
      "video_captioning_dataset\\YouTubeClips\\dir_temp\\0xx13BuvVmo_25_36_frame76.jpg\n"
     ]
    },
    {
     "name": "stderr",
     "output_type": "stream",
     "text": [
      "\r",
      " 94%|████████████████████████████████████████████████████████████████████████████▉     | 75/80 [20:49<01:22, 16.45s/it]"
     ]
    },
    {
     "name": "stdout",
     "output_type": "stream",
     "text": [
      "video_captioning_dataset\\YouTubeClips\\dir_temp\\0xx13BuvVmo_25_36_frame77.jpg\n"
     ]
    },
    {
     "name": "stderr",
     "output_type": "stream",
     "text": [
      "\r",
      " 95%|█████████████████████████████████████████████████████████████████████████████▉    | 76/80 [21:06<01:06, 16.50s/it]"
     ]
    },
    {
     "name": "stdout",
     "output_type": "stream",
     "text": [
      "video_captioning_dataset\\YouTubeClips\\dir_temp\\0xx13BuvVmo_25_36_frame78.jpg\n"
     ]
    },
    {
     "name": "stderr",
     "output_type": "stream",
     "text": [
      "\r",
      " 96%|██████████████████████████████████████████████████████████████████████████████▉   | 77/80 [21:22<00:48, 16.28s/it]"
     ]
    },
    {
     "name": "stdout",
     "output_type": "stream",
     "text": [
      "video_captioning_dataset\\YouTubeClips\\dir_temp\\0xx13BuvVmo_25_36_frame79.jpg\n"
     ]
    },
    {
     "name": "stderr",
     "output_type": "stream",
     "text": [
      "\r",
      " 98%|███████████████████████████████████████████████████████████████████████████████▉  | 78/80 [21:38<00:32, 16.30s/it]"
     ]
    },
    {
     "name": "stdout",
     "output_type": "stream",
     "text": [
      "video_captioning_dataset\\YouTubeClips\\dir_temp\\0xx13BuvVmo_25_36_frame8.jpg\n"
     ]
    },
    {
     "name": "stderr",
     "output_type": "stream",
     "text": [
      "\r",
      " 99%|████████████████████████████████████████████████████████████████████████████████▉ | 79/80 [21:54<00:16, 16.10s/it]"
     ]
    },
    {
     "name": "stdout",
     "output_type": "stream",
     "text": [
      "video_captioning_dataset\\YouTubeClips\\dir_temp\\0xx13BuvVmo_25_36_frame9.jpg\n"
     ]
    },
    {
     "name": "stderr",
     "output_type": "stream",
     "text": [
      "100%|██████████████████████████████████████████████████████████████████████████████████| 80/80 [22:10<00:00, 16.63s/it]\n"
     ]
    },
    {
     "name": "stdout",
     "output_type": "stream",
     "text": [
      "1dA1RQgPN3c_72_82\n",
      " cleanup: video_captioning_dataset\\YouTubeClips\\dir_temp/\n"
     ]
    },
    {
     "name": "stderr",
     "output_type": "stream",
     "text": [
      "\r",
      "  0%|                                                                                           | 0/80 [00:00<?, ?it/s]"
     ]
    },
    {
     "name": "stdout",
     "output_type": "stream",
     "text": [
      "video_captioning_dataset\\YouTubeClips\\dir_temp\\1dA1RQgPN3c_72_82_frame0.jpg\n"
     ]
    },
    {
     "name": "stderr",
     "output_type": "stream",
     "text": [
      "\r",
      "  1%|█                                                                                  | 1/80 [00:17<22:29, 17.08s/it]"
     ]
    },
    {
     "name": "stdout",
     "output_type": "stream",
     "text": [
      "video_captioning_dataset\\YouTubeClips\\dir_temp\\1dA1RQgPN3c_72_82_frame1.jpg\n"
     ]
    },
    {
     "name": "stderr",
     "output_type": "stream",
     "text": [
      "\r",
      "  2%|██                                                                                 | 2/80 [00:33<21:53, 16.84s/it]"
     ]
    },
    {
     "name": "stdout",
     "output_type": "stream",
     "text": [
      "video_captioning_dataset\\YouTubeClips\\dir_temp\\1dA1RQgPN3c_72_82_frame10.jpg\n"
     ]
    },
    {
     "name": "stderr",
     "output_type": "stream",
     "text": [
      "\r",
      "  4%|███                                                                                | 3/80 [00:49<21:24, 16.68s/it]"
     ]
    },
    {
     "name": "stdout",
     "output_type": "stream",
     "text": [
      "video_captioning_dataset\\YouTubeClips\\dir_temp\\1dA1RQgPN3c_72_82_frame11.jpg\n"
     ]
    },
    {
     "name": "stderr",
     "output_type": "stream",
     "text": [
      "\r",
      "  5%|████▏                                                                              | 4/80 [01:06<21:05, 16.65s/it]"
     ]
    },
    {
     "name": "stdout",
     "output_type": "stream",
     "text": [
      "video_captioning_dataset\\YouTubeClips\\dir_temp\\1dA1RQgPN3c_72_82_frame12.jpg\n"
     ]
    },
    {
     "name": "stderr",
     "output_type": "stream",
     "text": [
      "\r",
      "  6%|█████▏                                                                             | 5/80 [01:23<21:04, 16.86s/it]"
     ]
    },
    {
     "name": "stdout",
     "output_type": "stream",
     "text": [
      "video_captioning_dataset\\YouTubeClips\\dir_temp\\1dA1RQgPN3c_72_82_frame13.jpg\n"
     ]
    },
    {
     "name": "stderr",
     "output_type": "stream",
     "text": [
      "\r",
      "  8%|██████▏                                                                            | 6/80 [01:39<20:24, 16.55s/it]"
     ]
    },
    {
     "name": "stdout",
     "output_type": "stream",
     "text": [
      "video_captioning_dataset\\YouTubeClips\\dir_temp\\1dA1RQgPN3c_72_82_frame14.jpg\n"
     ]
    },
    {
     "name": "stderr",
     "output_type": "stream",
     "text": [
      "\r",
      "  9%|███████▎                                                                           | 7/80 [01:55<20:04, 16.51s/it]"
     ]
    },
    {
     "name": "stdout",
     "output_type": "stream",
     "text": [
      "video_captioning_dataset\\YouTubeClips\\dir_temp\\1dA1RQgPN3c_72_82_frame15.jpg\n"
     ]
    },
    {
     "name": "stderr",
     "output_type": "stream",
     "text": [
      "\r",
      " 10%|████████▎                                                                          | 8/80 [02:12<19:50, 16.54s/it]"
     ]
    },
    {
     "name": "stdout",
     "output_type": "stream",
     "text": [
      "video_captioning_dataset\\YouTubeClips\\dir_temp\\1dA1RQgPN3c_72_82_frame16.jpg\n"
     ]
    },
    {
     "name": "stderr",
     "output_type": "stream",
     "text": [
      "\r",
      " 11%|█████████▎                                                                         | 9/80 [02:29<19:45, 16.69s/it]"
     ]
    },
    {
     "name": "stdout",
     "output_type": "stream",
     "text": [
      "video_captioning_dataset\\YouTubeClips\\dir_temp\\1dA1RQgPN3c_72_82_frame17.jpg\n"
     ]
    },
    {
     "name": "stderr",
     "output_type": "stream",
     "text": [
      "\r",
      " 12%|██████████▎                                                                       | 10/80 [02:45<19:10, 16.43s/it]"
     ]
    },
    {
     "name": "stdout",
     "output_type": "stream",
     "text": [
      "video_captioning_dataset\\YouTubeClips\\dir_temp\\1dA1RQgPN3c_72_82_frame18.jpg\n"
     ]
    },
    {
     "name": "stderr",
     "output_type": "stream",
     "text": [
      "\r",
      " 14%|███████████▎                                                                      | 11/80 [03:01<18:58, 16.50s/it]"
     ]
    },
    {
     "name": "stdout",
     "output_type": "stream",
     "text": [
      "video_captioning_dataset\\YouTubeClips\\dir_temp\\1dA1RQgPN3c_72_82_frame19.jpg\n"
     ]
    },
    {
     "name": "stderr",
     "output_type": "stream",
     "text": [
      "\r",
      " 15%|████████████▎                                                                     | 12/80 [03:18<18:45, 16.55s/it]"
     ]
    },
    {
     "name": "stdout",
     "output_type": "stream",
     "text": [
      "video_captioning_dataset\\YouTubeClips\\dir_temp\\1dA1RQgPN3c_72_82_frame2.jpg\n"
     ]
    },
    {
     "name": "stderr",
     "output_type": "stream",
     "text": [
      "\r",
      " 16%|█████████████▎                                                                    | 13/80 [03:35<18:42, 16.75s/it]"
     ]
    },
    {
     "name": "stdout",
     "output_type": "stream",
     "text": [
      "video_captioning_dataset\\YouTubeClips\\dir_temp\\1dA1RQgPN3c_72_82_frame20.jpg\n"
     ]
    },
    {
     "name": "stderr",
     "output_type": "stream",
     "text": [
      "\r",
      " 18%|██████████████▎                                                                   | 14/80 [03:51<18:09, 16.51s/it]"
     ]
    },
    {
     "name": "stdout",
     "output_type": "stream",
     "text": [
      "video_captioning_dataset\\YouTubeClips\\dir_temp\\1dA1RQgPN3c_72_82_frame21.jpg\n"
     ]
    },
    {
     "name": "stderr",
     "output_type": "stream",
     "text": [
      "\r",
      " 19%|███████████████▍                                                                  | 15/80 [04:08<17:56, 16.55s/it]"
     ]
    },
    {
     "name": "stdout",
     "output_type": "stream",
     "text": [
      "video_captioning_dataset\\YouTubeClips\\dir_temp\\1dA1RQgPN3c_72_82_frame22.jpg\n"
     ]
    },
    {
     "name": "stderr",
     "output_type": "stream",
     "text": [
      "\r",
      " 20%|████████████████▍                                                                 | 16/80 [04:25<17:40, 16.58s/it]"
     ]
    },
    {
     "name": "stdout",
     "output_type": "stream",
     "text": [
      "video_captioning_dataset\\YouTubeClips\\dir_temp\\1dA1RQgPN3c_72_82_frame23.jpg\n"
     ]
    },
    {
     "name": "stderr",
     "output_type": "stream",
     "text": [
      "\r",
      " 21%|█████████████████▍                                                                | 17/80 [04:42<17:31, 16.69s/it]"
     ]
    },
    {
     "name": "stdout",
     "output_type": "stream",
     "text": [
      "video_captioning_dataset\\YouTubeClips\\dir_temp\\1dA1RQgPN3c_72_82_frame24.jpg\n"
     ]
    },
    {
     "name": "stderr",
     "output_type": "stream",
     "text": [
      "\r",
      " 22%|██████████████████▍                                                               | 18/80 [04:57<16:58, 16.43s/it]"
     ]
    },
    {
     "name": "stdout",
     "output_type": "stream",
     "text": [
      "video_captioning_dataset\\YouTubeClips\\dir_temp\\1dA1RQgPN3c_72_82_frame25.jpg\n"
     ]
    },
    {
     "name": "stderr",
     "output_type": "stream",
     "text": [
      "\r",
      " 24%|███████████████████▍                                                              | 19/80 [05:15<16:56, 16.66s/it]"
     ]
    },
    {
     "name": "stdout",
     "output_type": "stream",
     "text": [
      "video_captioning_dataset\\YouTubeClips\\dir_temp\\1dA1RQgPN3c_72_82_frame26.jpg\n"
     ]
    },
    {
     "name": "stderr",
     "output_type": "stream",
     "text": [
      "\r",
      " 25%|████████████████████▌                                                             | 20/80 [05:31<16:30, 16.50s/it]"
     ]
    },
    {
     "name": "stdout",
     "output_type": "stream",
     "text": [
      "video_captioning_dataset\\YouTubeClips\\dir_temp\\1dA1RQgPN3c_72_82_frame27.jpg\n"
     ]
    },
    {
     "name": "stderr",
     "output_type": "stream",
     "text": [
      "\r",
      " 26%|█████████████████████▌                                                            | 21/80 [05:46<15:58, 16.25s/it]"
     ]
    },
    {
     "name": "stdout",
     "output_type": "stream",
     "text": [
      "video_captioning_dataset\\YouTubeClips\\dir_temp\\1dA1RQgPN3c_72_82_frame28.jpg\n"
     ]
    },
    {
     "name": "stderr",
     "output_type": "stream",
     "text": [
      "\r",
      " 28%|██████████████████████▌                                                           | 22/80 [06:02<15:39, 16.19s/it]"
     ]
    },
    {
     "name": "stdout",
     "output_type": "stream",
     "text": [
      "video_captioning_dataset\\YouTubeClips\\dir_temp\\1dA1RQgPN3c_72_82_frame29.jpg\n"
     ]
    },
    {
     "name": "stderr",
     "output_type": "stream",
     "text": [
      "\r",
      " 29%|███████████████████████▌                                                          | 23/80 [06:20<15:39, 16.48s/it]"
     ]
    },
    {
     "name": "stdout",
     "output_type": "stream",
     "text": [
      "video_captioning_dataset\\YouTubeClips\\dir_temp\\1dA1RQgPN3c_72_82_frame3.jpg\n"
     ]
    },
    {
     "name": "stderr",
     "output_type": "stream",
     "text": [
      "\r",
      " 30%|████████████████████████▌                                                         | 24/80 [06:36<15:26, 16.54s/it]"
     ]
    },
    {
     "name": "stdout",
     "output_type": "stream",
     "text": [
      "video_captioning_dataset\\YouTubeClips\\dir_temp\\1dA1RQgPN3c_72_82_frame30.jpg\n"
     ]
    },
    {
     "name": "stderr",
     "output_type": "stream",
     "text": [
      "\r",
      " 31%|█████████████████████████▋                                                        | 25/80 [06:52<14:56, 16.30s/it]"
     ]
    },
    {
     "name": "stdout",
     "output_type": "stream",
     "text": [
      "video_captioning_dataset\\YouTubeClips\\dir_temp\\1dA1RQgPN3c_72_82_frame31.jpg\n"
     ]
    },
    {
     "name": "stderr",
     "output_type": "stream",
     "text": [
      "\r",
      " 32%|██████████████████████████▋                                                       | 26/80 [07:08<14:37, 16.26s/it]"
     ]
    },
    {
     "name": "stdout",
     "output_type": "stream",
     "text": [
      "video_captioning_dataset\\YouTubeClips\\dir_temp\\1dA1RQgPN3c_72_82_frame32.jpg\n"
     ]
    },
    {
     "name": "stderr",
     "output_type": "stream",
     "text": [
      "\r",
      " 34%|███████████████████████████▋                                                      | 27/80 [07:25<14:33, 16.48s/it]"
     ]
    },
    {
     "name": "stdout",
     "output_type": "stream",
     "text": [
      "video_captioning_dataset\\YouTubeClips\\dir_temp\\1dA1RQgPN3c_72_82_frame33.jpg\n"
     ]
    },
    {
     "name": "stderr",
     "output_type": "stream",
     "text": [
      "\r",
      " 35%|████████████████████████████▋                                                     | 28/80 [07:42<14:21, 16.57s/it]"
     ]
    },
    {
     "name": "stdout",
     "output_type": "stream",
     "text": [
      "video_captioning_dataset\\YouTubeClips\\dir_temp\\1dA1RQgPN3c_72_82_frame34.jpg\n"
     ]
    },
    {
     "name": "stderr",
     "output_type": "stream",
     "text": [
      "\r",
      " 36%|█████████████████████████████▋                                                    | 29/80 [07:58<13:51, 16.30s/it]"
     ]
    },
    {
     "name": "stdout",
     "output_type": "stream",
     "text": [
      "video_captioning_dataset\\YouTubeClips\\dir_temp\\1dA1RQgPN3c_72_82_frame35.jpg\n"
     ]
    },
    {
     "name": "stderr",
     "output_type": "stream",
     "text": [
      "\r",
      " 38%|██████████████████████████████▊                                                   | 30/80 [08:14<13:30, 16.21s/it]"
     ]
    },
    {
     "name": "stdout",
     "output_type": "stream",
     "text": [
      "video_captioning_dataset\\YouTubeClips\\dir_temp\\1dA1RQgPN3c_72_82_frame36.jpg\n"
     ]
    },
    {
     "name": "stderr",
     "output_type": "stream",
     "text": [
      "\r",
      " 39%|███████████████████████████████▊                                                  | 31/80 [08:31<13:28, 16.50s/it]"
     ]
    },
    {
     "name": "stdout",
     "output_type": "stream",
     "text": [
      "video_captioning_dataset\\YouTubeClips\\dir_temp\\1dA1RQgPN3c_72_82_frame37.jpg\n"
     ]
    },
    {
     "name": "stderr",
     "output_type": "stream",
     "text": [
      "\r",
      " 40%|████████████████████████████████▊                                                 | 32/80 [08:49<13:41, 17.12s/it]"
     ]
    },
    {
     "name": "stdout",
     "output_type": "stream",
     "text": [
      "video_captioning_dataset\\YouTubeClips\\dir_temp\\1dA1RQgPN3c_72_82_frame38.jpg\n"
     ]
    },
    {
     "name": "stderr",
     "output_type": "stream",
     "text": [
      "\r",
      " 41%|█████████████████████████████████▊                                                | 33/80 [09:06<13:12, 16.87s/it]"
     ]
    },
    {
     "name": "stdout",
     "output_type": "stream",
     "text": [
      "video_captioning_dataset\\YouTubeClips\\dir_temp\\1dA1RQgPN3c_72_82_frame39.jpg\n"
     ]
    },
    {
     "name": "stderr",
     "output_type": "stream",
     "text": [
      "\r",
      " 42%|██████████████████████████████████▊                                               | 34/80 [09:22<12:51, 16.76s/it]"
     ]
    },
    {
     "name": "stdout",
     "output_type": "stream",
     "text": [
      "video_captioning_dataset\\YouTubeClips\\dir_temp\\1dA1RQgPN3c_72_82_frame4.jpg\n"
     ]
    },
    {
     "name": "stderr",
     "output_type": "stream",
     "text": [
      "\r",
      " 44%|███████████████████████████████████▉                                              | 35/80 [09:38<12:18, 16.41s/it]"
     ]
    },
    {
     "name": "stdout",
     "output_type": "stream",
     "text": [
      "video_captioning_dataset\\YouTubeClips\\dir_temp\\1dA1RQgPN3c_72_82_frame40.jpg\n"
     ]
    },
    {
     "name": "stderr",
     "output_type": "stream",
     "text": [
      "\r",
      " 45%|████████████████████████████████████▉                                             | 36/80 [09:55<12:08, 16.56s/it]"
     ]
    },
    {
     "name": "stdout",
     "output_type": "stream",
     "text": [
      "video_captioning_dataset\\YouTubeClips\\dir_temp\\1dA1RQgPN3c_72_82_frame41.jpg\n"
     ]
    },
    {
     "name": "stderr",
     "output_type": "stream",
     "text": [
      "\r",
      " 46%|█████████████████████████████████████▉                                            | 37/80 [10:11<11:43, 16.37s/it]"
     ]
    },
    {
     "name": "stdout",
     "output_type": "stream",
     "text": [
      "video_captioning_dataset\\YouTubeClips\\dir_temp\\1dA1RQgPN3c_72_82_frame42.jpg\n"
     ]
    },
    {
     "name": "stderr",
     "output_type": "stream",
     "text": [
      "\r",
      " 48%|██████████████████████████████████████▉                                           | 38/80 [10:28<11:34, 16.54s/it]"
     ]
    },
    {
     "name": "stdout",
     "output_type": "stream",
     "text": [
      "video_captioning_dataset\\YouTubeClips\\dir_temp\\1dA1RQgPN3c_72_82_frame43.jpg\n"
     ]
    },
    {
     "name": "stderr",
     "output_type": "stream",
     "text": [
      "\r",
      " 49%|███████████████████████████████████████▉                                          | 39/80 [10:43<11:09, 16.32s/it]"
     ]
    },
    {
     "name": "stdout",
     "output_type": "stream",
     "text": [
      "video_captioning_dataset\\YouTubeClips\\dir_temp\\1dA1RQgPN3c_72_82_frame44.jpg\n"
     ]
    },
    {
     "name": "stderr",
     "output_type": "stream",
     "text": [
      "\r",
      " 50%|█████████████████████████████████████████                                         | 40/80 [11:00<11:02, 16.56s/it]"
     ]
    },
    {
     "name": "stdout",
     "output_type": "stream",
     "text": [
      "video_captioning_dataset\\YouTubeClips\\dir_temp\\1dA1RQgPN3c_72_82_frame45.jpg\n"
     ]
    },
    {
     "name": "stderr",
     "output_type": "stream",
     "text": [
      "\r",
      " 51%|██████████████████████████████████████████                                        | 41/80 [11:17<10:40, 16.43s/it]"
     ]
    },
    {
     "name": "stdout",
     "output_type": "stream",
     "text": [
      "video_captioning_dataset\\YouTubeClips\\dir_temp\\1dA1RQgPN3c_72_82_frame46.jpg\n"
     ]
    },
    {
     "name": "stderr",
     "output_type": "stream",
     "text": [
      "\r",
      " 52%|███████████████████████████████████████████                                       | 42/80 [11:33<10:20, 16.34s/it]"
     ]
    },
    {
     "name": "stdout",
     "output_type": "stream",
     "text": [
      "video_captioning_dataset\\YouTubeClips\\dir_temp\\1dA1RQgPN3c_72_82_frame47.jpg\n"
     ]
    },
    {
     "name": "stderr",
     "output_type": "stream",
     "text": [
      "\r",
      " 54%|████████████████████████████████████████████                                      | 43/80 [11:48<09:56, 16.11s/it]"
     ]
    },
    {
     "name": "stdout",
     "output_type": "stream",
     "text": [
      "video_captioning_dataset\\YouTubeClips\\dir_temp\\1dA1RQgPN3c_72_82_frame48.jpg\n"
     ]
    },
    {
     "name": "stderr",
     "output_type": "stream",
     "text": [
      "\r",
      " 55%|█████████████████████████████████████████████                                     | 44/80 [12:05<09:41, 16.16s/it]"
     ]
    },
    {
     "name": "stdout",
     "output_type": "stream",
     "text": [
      "video_captioning_dataset\\YouTubeClips\\dir_temp\\1dA1RQgPN3c_72_82_frame49.jpg\n"
     ]
    },
    {
     "name": "stderr",
     "output_type": "stream",
     "text": [
      "\r",
      " 56%|██████████████████████████████████████████████▏                                   | 45/80 [12:21<09:23, 16.11s/it]"
     ]
    },
    {
     "name": "stdout",
     "output_type": "stream",
     "text": [
      "video_captioning_dataset\\YouTubeClips\\dir_temp\\1dA1RQgPN3c_72_82_frame5.jpg\n"
     ]
    },
    {
     "name": "stderr",
     "output_type": "stream",
     "text": [
      "\r",
      " 57%|███████████████████████████████████████████████▏                                  | 46/80 [12:36<09:05, 16.04s/it]"
     ]
    },
    {
     "name": "stdout",
     "output_type": "stream",
     "text": [
      "video_captioning_dataset\\YouTubeClips\\dir_temp\\1dA1RQgPN3c_72_82_frame50.jpg\n"
     ]
    },
    {
     "name": "stderr",
     "output_type": "stream",
     "text": [
      "\r",
      " 59%|████████████████████████████████████████████████▏                                 | 47/80 [12:52<08:45, 15.91s/it]"
     ]
    },
    {
     "name": "stdout",
     "output_type": "stream",
     "text": [
      "video_captioning_dataset\\YouTubeClips\\dir_temp\\1dA1RQgPN3c_72_82_frame51.jpg\n"
     ]
    },
    {
     "name": "stderr",
     "output_type": "stream",
     "text": [
      "\r",
      " 60%|█████████████████████████████████████████████████▏                                | 48/80 [13:09<08:35, 16.12s/it]"
     ]
    },
    {
     "name": "stdout",
     "output_type": "stream",
     "text": [
      "video_captioning_dataset\\YouTubeClips\\dir_temp\\1dA1RQgPN3c_72_82_frame52.jpg\n"
     ]
    },
    {
     "name": "stderr",
     "output_type": "stream",
     "text": [
      "\r",
      " 61%|██████████████████████████████████████████████████▏                               | 49/80 [13:25<08:22, 16.21s/it]"
     ]
    },
    {
     "name": "stdout",
     "output_type": "stream",
     "text": [
      "video_captioning_dataset\\YouTubeClips\\dir_temp\\1dA1RQgPN3c_72_82_frame53.jpg\n"
     ]
    },
    {
     "name": "stderr",
     "output_type": "stream",
     "text": [
      "\r",
      " 62%|███████████████████████████████████████████████████▎                              | 50/80 [13:41<08:05, 16.20s/it]"
     ]
    },
    {
     "name": "stdout",
     "output_type": "stream",
     "text": [
      "video_captioning_dataset\\YouTubeClips\\dir_temp\\1dA1RQgPN3c_72_82_frame54.jpg\n"
     ]
    },
    {
     "name": "stderr",
     "output_type": "stream",
     "text": [
      "\r",
      " 64%|████████████████████████████████████████████████████▎                             | 51/80 [13:57<07:46, 16.08s/it]"
     ]
    },
    {
     "name": "stdout",
     "output_type": "stream",
     "text": [
      "video_captioning_dataset\\YouTubeClips\\dir_temp\\1dA1RQgPN3c_72_82_frame55.jpg\n"
     ]
    },
    {
     "name": "stderr",
     "output_type": "stream",
     "text": [
      "\r",
      " 65%|█████████████████████████████████████████████████████▎                            | 52/80 [14:14<07:35, 16.28s/it]"
     ]
    },
    {
     "name": "stdout",
     "output_type": "stream",
     "text": [
      "video_captioning_dataset\\YouTubeClips\\dir_temp\\1dA1RQgPN3c_72_82_frame56.jpg\n"
     ]
    },
    {
     "name": "stderr",
     "output_type": "stream",
     "text": [
      "\r",
      " 66%|██████████████████████████████████████████████████████▎                           | 53/80 [14:30<07:16, 16.18s/it]"
     ]
    },
    {
     "name": "stdout",
     "output_type": "stream",
     "text": [
      "video_captioning_dataset\\YouTubeClips\\dir_temp\\1dA1RQgPN3c_72_82_frame57.jpg\n"
     ]
    },
    {
     "name": "stderr",
     "output_type": "stream",
     "text": [
      "\r",
      " 68%|███████████████████████████████████████████████████████▎                          | 54/80 [14:46<06:59, 16.12s/it]"
     ]
    },
    {
     "name": "stdout",
     "output_type": "stream",
     "text": [
      "video_captioning_dataset\\YouTubeClips\\dir_temp\\1dA1RQgPN3c_72_82_frame58.jpg\n"
     ]
    },
    {
     "name": "stderr",
     "output_type": "stream",
     "text": [
      "\r",
      " 69%|████████████████████████████████████████████████████████▍                         | 55/80 [15:02<06:40, 16.03s/it]"
     ]
    },
    {
     "name": "stdout",
     "output_type": "stream",
     "text": [
      "video_captioning_dataset\\YouTubeClips\\dir_temp\\1dA1RQgPN3c_72_82_frame59.jpg\n"
     ]
    },
    {
     "name": "stderr",
     "output_type": "stream",
     "text": [
      "\r",
      " 70%|█████████████████████████████████████████████████████████▍                        | 56/80 [15:18<06:31, 16.31s/it]"
     ]
    },
    {
     "name": "stdout",
     "output_type": "stream",
     "text": [
      "video_captioning_dataset\\YouTubeClips\\dir_temp\\1dA1RQgPN3c_72_82_frame6.jpg\n"
     ]
    },
    {
     "name": "stderr",
     "output_type": "stream",
     "text": [
      "\r",
      " 71%|██████████████████████████████████████████████████████████▍                       | 57/80 [15:35<06:14, 16.26s/it]"
     ]
    },
    {
     "name": "stdout",
     "output_type": "stream",
     "text": [
      "video_captioning_dataset\\YouTubeClips\\dir_temp\\1dA1RQgPN3c_72_82_frame60.jpg\n"
     ]
    },
    {
     "name": "stderr",
     "output_type": "stream",
     "text": [
      "\r",
      " 72%|███████████████████████████████████████████████████████████▍                      | 58/80 [15:51<05:56, 16.19s/it]"
     ]
    },
    {
     "name": "stdout",
     "output_type": "stream",
     "text": [
      "video_captioning_dataset\\YouTubeClips\\dir_temp\\1dA1RQgPN3c_72_82_frame61.jpg\n"
     ]
    },
    {
     "name": "stderr",
     "output_type": "stream",
     "text": [
      "\r",
      " 74%|████████████████████████████████████████████████████████████▍                     | 59/80 [16:06<05:37, 16.07s/it]"
     ]
    },
    {
     "name": "stdout",
     "output_type": "stream",
     "text": [
      "video_captioning_dataset\\YouTubeClips\\dir_temp\\1dA1RQgPN3c_72_82_frame62.jpg\n"
     ]
    },
    {
     "name": "stderr",
     "output_type": "stream",
     "text": [
      "\r",
      " 75%|█████████████████████████████████████████████████████████████▌                    | 60/80 [16:23<05:24, 16.24s/it]"
     ]
    },
    {
     "name": "stdout",
     "output_type": "stream",
     "text": [
      "video_captioning_dataset\\YouTubeClips\\dir_temp\\1dA1RQgPN3c_72_82_frame63.jpg\n"
     ]
    },
    {
     "name": "stderr",
     "output_type": "stream",
     "text": [
      "\r",
      " 76%|██████████████████████████████████████████████████████████████▌                   | 61/80 [16:39<05:08, 16.21s/it]"
     ]
    },
    {
     "name": "stdout",
     "output_type": "stream",
     "text": [
      "video_captioning_dataset\\YouTubeClips\\dir_temp\\1dA1RQgPN3c_72_82_frame64.jpg\n"
     ]
    },
    {
     "name": "stderr",
     "output_type": "stream",
     "text": [
      "\r",
      " 78%|███████████████████████████████████████████████████████████████▌                  | 62/80 [16:55<04:49, 16.09s/it]"
     ]
    },
    {
     "name": "stdout",
     "output_type": "stream",
     "text": [
      "video_captioning_dataset\\YouTubeClips\\dir_temp\\1dA1RQgPN3c_72_82_frame65.jpg\n"
     ]
    },
    {
     "name": "stderr",
     "output_type": "stream",
     "text": [
      "\r",
      " 79%|████████████████████████████████████████████████████████████████▌                 | 63/80 [17:12<04:37, 16.32s/it]"
     ]
    },
    {
     "name": "stdout",
     "output_type": "stream",
     "text": [
      "video_captioning_dataset\\YouTubeClips\\dir_temp\\1dA1RQgPN3c_72_82_frame66.jpg\n"
     ]
    },
    {
     "name": "stderr",
     "output_type": "stream",
     "text": [
      "\r",
      " 80%|█████████████████████████████████████████████████████████████████▌                | 64/80 [17:29<04:23, 16.45s/it]"
     ]
    },
    {
     "name": "stdout",
     "output_type": "stream",
     "text": [
      "video_captioning_dataset\\YouTubeClips\\dir_temp\\1dA1RQgPN3c_72_82_frame67.jpg\n"
     ]
    },
    {
     "name": "stderr",
     "output_type": "stream",
     "text": [
      "\r",
      " 81%|██████████████████████████████████████████████████████████████████▋               | 65/80 [17:46<04:12, 16.80s/it]"
     ]
    },
    {
     "name": "stdout",
     "output_type": "stream",
     "text": [
      "video_captioning_dataset\\YouTubeClips\\dir_temp\\1dA1RQgPN3c_72_82_frame68.jpg\n"
     ]
    },
    {
     "name": "stderr",
     "output_type": "stream",
     "text": [
      "\r",
      " 82%|███████████████████████████████████████████████████████████████████▋              | 66/80 [18:02<03:52, 16.62s/it]"
     ]
    },
    {
     "name": "stdout",
     "output_type": "stream",
     "text": [
      "video_captioning_dataset\\YouTubeClips\\dir_temp\\1dA1RQgPN3c_72_82_frame69.jpg\n"
     ]
    },
    {
     "name": "stderr",
     "output_type": "stream",
     "text": [
      "\r",
      " 84%|████████████████████████████████████████████████████████████████████▋             | 67/80 [18:19<03:36, 16.62s/it]"
     ]
    },
    {
     "name": "stdout",
     "output_type": "stream",
     "text": [
      "video_captioning_dataset\\YouTubeClips\\dir_temp\\1dA1RQgPN3c_72_82_frame7.jpg\n"
     ]
    },
    {
     "name": "stderr",
     "output_type": "stream",
     "text": [
      "\r",
      " 85%|█████████████████████████████████████████████████████████████████████▋            | 68/80 [18:36<03:19, 16.63s/it]"
     ]
    },
    {
     "name": "stdout",
     "output_type": "stream",
     "text": [
      "video_captioning_dataset\\YouTubeClips\\dir_temp\\1dA1RQgPN3c_72_82_frame70.jpg\n"
     ]
    },
    {
     "name": "stderr",
     "output_type": "stream",
     "text": [
      "\r",
      " 86%|██████████████████████████████████████████████████████████████████████▋           | 69/80 [18:52<03:02, 16.62s/it]"
     ]
    },
    {
     "name": "stdout",
     "output_type": "stream",
     "text": [
      "video_captioning_dataset\\YouTubeClips\\dir_temp\\1dA1RQgPN3c_72_82_frame71.jpg\n"
     ]
    },
    {
     "name": "stderr",
     "output_type": "stream",
     "text": [
      "\r",
      " 88%|███████████████████████████████████████████████████████████████████████▊          | 70/80 [19:08<02:44, 16.41s/it]"
     ]
    },
    {
     "name": "stdout",
     "output_type": "stream",
     "text": [
      "video_captioning_dataset\\YouTubeClips\\dir_temp\\1dA1RQgPN3c_72_82_frame72.jpg\n"
     ]
    },
    {
     "name": "stderr",
     "output_type": "stream",
     "text": [
      "\r",
      " 89%|████████████████████████████████████████████████████████████████████████▊         | 71/80 [19:25<02:29, 16.56s/it]"
     ]
    },
    {
     "name": "stdout",
     "output_type": "stream",
     "text": [
      "video_captioning_dataset\\YouTubeClips\\dir_temp\\1dA1RQgPN3c_72_82_frame73.jpg\n"
     ]
    },
    {
     "name": "stderr",
     "output_type": "stream",
     "text": [
      "\r",
      " 90%|█████████████████████████████████████████████████████████████████████████▊        | 72/80 [19:41<02:11, 16.48s/it]"
     ]
    },
    {
     "name": "stdout",
     "output_type": "stream",
     "text": [
      "video_captioning_dataset\\YouTubeClips\\dir_temp\\1dA1RQgPN3c_72_82_frame74.jpg\n"
     ]
    },
    {
     "name": "stderr",
     "output_type": "stream",
     "text": [
      "\r",
      " 91%|██████████████████████████████████████████████████████████████████████████▊       | 73/80 [19:58<01:55, 16.49s/it]"
     ]
    },
    {
     "name": "stdout",
     "output_type": "stream",
     "text": [
      "video_captioning_dataset\\YouTubeClips\\dir_temp\\1dA1RQgPN3c_72_82_frame75.jpg\n"
     ]
    },
    {
     "name": "stderr",
     "output_type": "stream",
     "text": [
      "\r",
      " 92%|███████████████████████████████████████████████████████████████████████████▊      | 74/80 [20:14<01:38, 16.39s/it]"
     ]
    },
    {
     "name": "stdout",
     "output_type": "stream",
     "text": [
      "video_captioning_dataset\\YouTubeClips\\dir_temp\\1dA1RQgPN3c_72_82_frame76.jpg\n"
     ]
    },
    {
     "name": "stderr",
     "output_type": "stream",
     "text": [
      "\r",
      " 94%|████████████████████████████████████████████████████████████████████████████▉     | 75/80 [20:33<01:25, 17.05s/it]"
     ]
    },
    {
     "name": "stdout",
     "output_type": "stream",
     "text": [
      "video_captioning_dataset\\YouTubeClips\\dir_temp\\1dA1RQgPN3c_72_82_frame77.jpg\n"
     ]
    },
    {
     "name": "stderr",
     "output_type": "stream",
     "text": [
      "\r",
      " 95%|█████████████████████████████████████████████████████████████████████████████▉    | 76/80 [20:50<01:08, 17.02s/it]"
     ]
    },
    {
     "name": "stdout",
     "output_type": "stream",
     "text": [
      "video_captioning_dataset\\YouTubeClips\\dir_temp\\1dA1RQgPN3c_72_82_frame78.jpg\n"
     ]
    },
    {
     "name": "stderr",
     "output_type": "stream",
     "text": [
      "\r",
      " 96%|██████████████████████████████████████████████████████████████████████████████▉   | 77/80 [21:07<00:51, 17.01s/it]"
     ]
    },
    {
     "name": "stdout",
     "output_type": "stream",
     "text": [
      "video_captioning_dataset\\YouTubeClips\\dir_temp\\1dA1RQgPN3c_72_82_frame79.jpg\n"
     ]
    },
    {
     "name": "stderr",
     "output_type": "stream",
     "text": [
      "\r",
      " 98%|███████████████████████████████████████████████████████████████████████████████▉  | 78/80 [21:25<00:34, 17.30s/it]"
     ]
    },
    {
     "name": "stdout",
     "output_type": "stream",
     "text": [
      "video_captioning_dataset\\YouTubeClips\\dir_temp\\1dA1RQgPN3c_72_82_frame8.jpg\n"
     ]
    },
    {
     "name": "stderr",
     "output_type": "stream",
     "text": [
      "\r",
      " 99%|████████████████████████████████████████████████████████████████████████████████▉ | 79/80 [21:41<00:17, 17.01s/it]"
     ]
    },
    {
     "name": "stdout",
     "output_type": "stream",
     "text": [
      "video_captioning_dataset\\YouTubeClips\\dir_temp\\1dA1RQgPN3c_72_82_frame9.jpg\n"
     ]
    },
    {
     "name": "stderr",
     "output_type": "stream",
     "text": [
      "100%|██████████████████████████████████████████████████████████████████████████████████| 80/80 [21:57<00:00, 16.47s/it]\n"
     ]
    }
   ],
   "source": [
    "source_folder='video_captioning_dataset\\YouTubeClips\\dest'\n",
    "#video='video_captioning_dataset\\YouTubeClips\\dest\\mv89psg6zh4_33_46.avi'\n",
    "feat_dir='video_captioning_dataset\\YouTubeClips\\dir_feat'\n",
    "temp='video_captioning_dataset\\YouTubeClips\\dir_temp'\n",
    "test=VideoCaptioningPreProcessing(source_folder,feat_dir,temp)\n",
    "VideoCaptioningPreProcessing.extract_feats_pretrained_cnn(test)\n",
    "#test.video_to_frames(video)"
   ]
  },
  {
   "cell_type": "code",
   "execution_count": 62,
   "metadata": {},
   "outputs": [],
   "source": [
    "#if __name__ == '__main__':\n",
    "  #  with ElapsedTimer('VideoCaptioningPreProcessing'):\n",
    "     #   fire.Fire(VideoCaptioningPreProcessing)"
   ]
  },
  {
   "cell_type": "code",
   "execution_count": null,
   "metadata": {},
   "outputs": [],
   "source": []
  },
  {
   "cell_type": "code",
   "execution_count": null,
   "metadata": {},
   "outputs": [],
   "source": []
  }
 ],
 "metadata": {
  "kernelspec": {
   "display_name": "Python 3",
   "language": "python",
   "name": "python3"
  },
  "language_info": {
   "codemirror_mode": {
    "name": "ipython",
    "version": 3
   },
   "file_extension": ".py",
   "mimetype": "text/x-python",
   "name": "python",
   "nbconvert_exporter": "python",
   "pygments_lexer": "ipython3",
   "version": "3.8.3"
  }
 },
 "nbformat": 4,
 "nbformat_minor": 4
}
